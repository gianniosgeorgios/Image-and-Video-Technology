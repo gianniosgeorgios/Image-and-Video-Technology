{
  "nbformat": 4,
  "nbformat_minor": 0,
  "metadata": {
    "colab": {
      "name": "2nd_Lab_Image_and_Video_Analysis .ipynb",
      "provenance": [],
      "collapsed_sections": [],
      "toc_visible": true
    },
    "kernelspec": {
      "name": "python3",
      "display_name": "Python 3"
    }
  },
  "cells": [
    {
      "cell_type": "markdown",
      "metadata": {
        "id": "LpnEVMCYYlnD",
        "colab_type": "text"
      },
      "source": [
        "#2η Ομαδική Άσκηση στη Τεχνολογία και Ανάλυση Εικόνων και Βίντεο"
      ]
    },
    {
      "cell_type": "markdown",
      "metadata": {
        "id": "dDiBgDudvtIk",
        "colab_type": "text"
      },
      "source": [
        "**Φοιτητές**: Γιαννιός Γεώργιος Ταξιάρχης 031 16 156<br>$\\;\\;\\;\\;\\;\\;\\;\\;\\;\\;\\;\\;\\;$Τσαμπάζη Μαρία 031 15 716 <br> **Ομάδα**: $\\;\\;\\;$F10"
      ]
    },
    {
      "cell_type": "markdown",
      "metadata": {
        "id": "DfEMjsB4Yurm",
        "colab_type": "text"
      },
      "source": [
        "## Εισαγωγή και επισκόπηση του συνόλου δεδομένων"
      ]
    },
    {
      "cell_type": "code",
      "metadata": {
        "id": "STXQMBuN3nZ6",
        "colab_type": "code",
        "colab": {}
      },
      "source": [
        "from __future__ import absolute_import, division, print_function, unicode_literals # legacy compatibility\n",
        "\n",
        "import numpy as np\n",
        "import pandas as pd\n",
        "import matplotlib.pyplot as plt\n",
        "from tensorflow.keras.preprocessing.image import ImageDataGenerator"
      ],
      "execution_count": null,
      "outputs": []
    },
    {
      "cell_type": "code",
      "metadata": {
        "id": "2WSEGPI9Q7tW",
        "colab_type": "code",
        "colab": {}
      },
      "source": [
        "# helper functions\n",
        "\n",
        "# select from_list elements with index in index_list\n",
        "def select_from_list(from_list, index_list):\n",
        "  filtered_list= [from_list[i] for i in index_list]\n",
        "  return(filtered_list)\n",
        "\n",
        "# append in filtered_list the index of each element of unfilterd_list if it exists in in target_list\n",
        "def get_ds_index(unfiliterd_list, target_list):\n",
        "  index = 0\n",
        "  filtered_list=[]\n",
        "  for i_ in unfiliterd_list:\n",
        "    if i_[0] in target_list:\n",
        "      filtered_list.append(index)\n",
        "    index += 1\n",
        "  return(filtered_list)\n",
        "\n",
        "# select a url for a unique subset of CIFAR-100 with 20, 40, 60, or 80 classes\n",
        "def select_classes_number(classes_number = 20):\n",
        "  cifar100_20_classes_url = \"https://pastebin.com/raw/nzE1n98V\"\n",
        "  cifar100_40_classes_url = \"https://pastebin.com/raw/zGX4mCNP\"\n",
        "  cifar100_60_classes_url = \"https://pastebin.com/raw/nsDTd3Qn\"\n",
        "  cifar100_80_classes_url = \"https://pastebin.com/raw/SNbXz700\"\n",
        "  if classes_number == 20:\n",
        "    return cifar100_20_classes_url\n",
        "  elif classes_number == 40:\n",
        "    return cifar100_40_classes_url\n",
        "  elif classes_number == 60:\n",
        "    return cifar100_60_classes_url\n",
        "  elif classes_number == 80:\n",
        "    return cifar100_80_classes_url\n",
        "  else:\n",
        "    return -1"
      ],
      "execution_count": null,
      "outputs": []
    },
    {
      "cell_type": "code",
      "metadata": {
        "id": "OCW71UaGzz0Q",
        "colab_type": "code",
        "colab": {
          "base_uri": "https://localhost:8080/",
          "height": 52
        },
        "outputId": "22433305-2a39-41e1-ca36-2b5eb9711636"
      },
      "source": [
        "# load the entire dataset\n",
        "import tensorflow as tf\n",
        "from tensorflow.keras import datasets, layers, models\n",
        "\n",
        "(x_train_all, y_train_all), (x_test_all, y_test_all) = tf.keras.datasets.cifar100.load_data(label_mode='fine')"
      ],
      "execution_count": null,
      "outputs": [
        {
          "output_type": "stream",
          "text": [
            "Downloading data from https://www.cs.toronto.edu/~kriz/cifar-100-python.tar.gz\n",
            "169009152/169001437 [==============================] - 11s 0us/step\n"
          ],
          "name": "stdout"
        }
      ]
    },
    {
      "cell_type": "code",
      "metadata": {
        "id": "kGKYHffEE1do",
        "colab_type": "code",
        "colab": {
          "base_uri": "https://localhost:8080/",
          "height": 34
        },
        "outputId": "a966a4d4-4ab2-4545-8817-5082db71bd3e"
      },
      "source": [
        "print(x_train_all.shape)"
      ],
      "execution_count": null,
      "outputs": [
        {
          "output_type": "stream",
          "text": [
            "(50000, 32, 32, 3)\n"
          ],
          "name": "stdout"
        }
      ]
    },
    {
      "cell_type": "markdown",
      "metadata": {
        "id": "9PO9wIwYUf0R",
        "colab_type": "text"
      },
      "source": [
        "Η κάθε ομάδα θα δουλέψει με διαφορετικό υποσύνολο του dataset.\n",
        "Στο επόμενο κελί, αντικαταστήστε την τιμή της μεταβλητής `team_seed` με τον αριθμό που αντιστοιχεί στην ομάδας σας. "
      ]
    },
    {
      "cell_type": "code",
      "metadata": {
        "id": "NN0kEze7uZ_G",
        "colab_type": "code",
        "colab": {}
      },
      "source": [
        "# REPLACE WITH YOUR TEAM NUMBER\n",
        "team_seed = 10"
      ],
      "execution_count": null,
      "outputs": []
    },
    {
      "cell_type": "markdown",
      "metadata": {
        "id": "8xYQ_Q1SVZEk",
        "colab_type": "text"
      },
      "source": [
        "Στο επόμενο κελί μπορείτε να διαλέξετε το πλήθος των κατηγορίων σας: 20 (default), 40, 60 ή 80."
      ]
    },
    {
      "cell_type": "code",
      "metadata": {
        "id": "RhbZJW6PxUDJ",
        "colab_type": "code",
        "colab": {}
      },
      "source": [
        "# select the number of classes\n",
        "cifar100_classes_url = select_classes_number()"
      ],
      "execution_count": null,
      "outputs": []
    },
    {
      "cell_type": "markdown",
      "metadata": {
        "id": "yO9f6wb0Wi0H",
        "colab_type": "text"
      },
      "source": [
        "Δημιουργούμε το μοναδικό dataset της ομάδας μας:"
      ]
    },
    {
      "cell_type": "code",
      "metadata": {
        "id": "PgIN2h_KuCp_",
        "colab_type": "code",
        "colab": {}
      },
      "source": [
        "team_classes = pd.read_csv(cifar100_classes_url, sep=',', header=None)\n",
        "CIFAR100_LABELS_LIST = pd.read_csv('https://pastebin.com/raw/qgDaNggt', sep=',', header=None).astype(str).values.tolist()[0]\n",
        "\n",
        "our_index = team_classes.iloc[team_seed,:].values.tolist()\n",
        "our_classes = select_from_list(CIFAR100_LABELS_LIST, our_index)\n",
        "\n",
        "train_index = get_ds_index(y_train_all, our_index)\n",
        "test_index = get_ds_index(y_test_all, our_index)\n",
        "\n",
        "x_train_ds = np.asarray(select_from_list(x_train_all, train_index))\n",
        "y_train_ds = np.asarray(select_from_list(y_train_all, train_index))\n",
        "#mapping REQUIRED !!!\n",
        "\n",
        "x_test_ds = np.asarray(select_from_list(x_test_all, test_index))\n",
        "y_test_ds = np.asarray(select_from_list(y_test_all, test_index))\n",
        "#mapping REQUIRED !!!\n"
      ],
      "execution_count": null,
      "outputs": []
    },
    {
      "cell_type": "markdown",
      "metadata": {
        "id": "Bp0jJe-hMzu6",
        "colab_type": "text"
      },
      "source": [
        "**Mapping**"
      ]
    },
    {
      "cell_type": "code",
      "metadata": {
        "id": "PZ-3s6DPHQLV",
        "colab_type": "code",
        "colab": {}
      },
      "source": [
        "### Since we have 20 classes, the last layer of NN\n",
        "### must have 20 nodes.However labels' values are in [0,100) \n",
        "### so we map them in range [0,20)\n",
        "\n",
        "dic = {4:0, 10:1, 16:2, 22:3, 23:4, 30:5, 32:6, 36:7, 38:8, 43:9, 47:10, 64:11, 65:12, 66:13, 67:14, 76:15, 77:16, 78:17, 84:18, 85:19}\n",
        "\n",
        "#### Mapping Train Labels \n",
        "\n",
        "temp1 = ([dic.get(n, n) for n in y_train_ds.flatten()])\n",
        "\n",
        "y_train_ds = np.reshape(temp1, (10000, 1) )\n",
        "\n",
        "\n",
        "\n",
        "#### Mapping Test Labels \n",
        "\n",
        "temp2 = ([dic.get(n, n) for n in y_test_ds.flatten()])\n",
        "\n",
        "y_test_ds = np.reshape(temp2, (2000, 1))"
      ],
      "execution_count": null,
      "outputs": []
    },
    {
      "cell_type": "code",
      "metadata": {
        "id": "QpGXgTs_5ZCk",
        "colab_type": "code",
        "colab": {
          "base_uri": "https://localhost:8080/",
          "height": 442
        },
        "outputId": "961c824d-fe80-48f7-8a8e-0181c1cb74f4"
      },
      "source": [
        "# get (train) dataset dimensions\n",
        "data_size, img_rows, img_cols, img_channels = x_train_ds.shape\n",
        "\n",
        "# set validation set percentage (wrt the training set size)\n",
        "validation_percentage = 0.15\n",
        "val_size = round(validation_percentage * data_size)\n",
        "\n",
        "# Reserve val_size samples for validation and normalize all values\n",
        "x_val = x_train_ds[-val_size:]/255\n",
        "y_val = y_train_ds[-val_size:]\n",
        "\n",
        "\n",
        "x_train = x_train_ds[:-val_size]/255\n",
        "y_train = y_train_ds[:-val_size]\n",
        "\n",
        "x_test = x_test_ds/255\n",
        "y_test = y_test_ds\n",
        "\n",
        "# summarize loaded dataset\n",
        "print('Train: X=%s, y=%s' % (x_train.shape, y_train.shape))\n",
        "print('Validation: X=%s, y=%s' % (x_val.shape, y_val.shape))\n",
        "print('Test: X=%s, y=%s' % (x_test.shape, y_test.shape))\n",
        "\n",
        "# get class label from class index\n",
        "def class_label_from_index(fine_category):\n",
        "  return(CIFAR100_LABELS_LIST[fine_category.item(0)])\n",
        "\n",
        "# plot first few images\n",
        "plt.figure(figsize=(6, 6))\n",
        "for i in range(9):\n",
        "\t# define subplot\n",
        "  plt.subplot(330 + 1 + i).set_title(class_label_from_index(y_train[i]))\n",
        "\t# plot raw pixel data\n",
        "  plt.imshow(x_train[i], cmap=plt.get_cmap('gray'))\n",
        "  #show the figure\n",
        "plt.show()"
      ],
      "execution_count": null,
      "outputs": [
        {
          "output_type": "stream",
          "text": [
            "Train: X=(8500, 32, 32, 3), y=(8500, 1)\n",
            "Validation: X=(1500, 32, 32, 3), y=(1500, 1)\n",
            "Test: X=(2000, 32, 32, 3), y=(2000, 1)\n"
          ],
          "name": "stdout"
        },
        {
          "output_type": "display_data",
          "data": {
            "image/png": "[encoded data removed]",
            "text/plain": [
              "<Figure size 432x432 with 9 Axes>"
            ]
          },
          "metadata": {
            "tags": [],
            "needs_background": "light"
          }
        }
      ]
    },
    {
      "cell_type": "markdown",
      "metadata": {
        "id": "M_T6Y9EJDuOu",
        "colab_type": "text"
      },
      "source": [
        "## Διαχείριση μνήμης (TFRecord)\n",
        "Η φόρτωση δεδομένων με τον τρόπο που το κάναμε παραπάνω στο απλό παράδειγμα υλοποίησης είναι πολύ βολική αλλά δεν είναι καθόλου αποτελεσματική ως προς τη διαχείριση της μνήμης. Συγκεκριμένα, με τον τρόπο αυτό, τα δεδομένα αποθηκεύονται απευθείας σε μεταβλητές, οι οποίες όλες μαζί καταλαμβάνουν τη RAM της CPU ή της GPU, κάτι που κάνει αδύνατη τη διαχείριση μεγάλων datasets ή τον μεταχηματισμό των δεδομένων όπως όταν κάνουμε αύξηση δεδομένων (data augmentation).\n",
        "\n",
        "Για να παρακαμφθεί αυτό το πρόβλημα, υπάρχει η δυνατότητα της σειριοποίησης των δεδομένων (serialization) και της αποθήκευσής τους σε αρχεία μεσαίου μεγέθους (κάποιων MB) τα οποία μπορούν να αναγνωστούν γραμμικά. Το φορμάτ TFRecord είναι ένα φορμάτ που επιτρέπει την αποθήκευση σειράς δυαδικών εγγραφών. Διαβάστε τα σχετικά λήμματα [TFRecord and tf.Example](https://www.tensorflow.org/tutorials/load_data/tfrecord) και [tf.data: Build TensorFlow input pipelines](https://www.tensorflow.org/guide/data). \n",
        "\n",
        "Σημειώστε ότι με τη μέθοδο αυτή θα πρέπει να γίνει import η `tensorflow_datasets` και να χρησιμοποιήσουμε την `tfds.load` ώστε να αποθηκευθεί το σύνολο δεδομένων σε αρχεία tfrecord στο δίσκο (δείτε [εδώ](https://colab.research.google.com/github/tensorflow/datasets/blob/master/docs/overview.ipynb) ένα παράδειγμα). Φυσικά μπορούμε να μετατρέψουμε και τα πρωτογενή δεδομένα (raw data) του dataset όπως αρχεία jpg σε φορματ tfrecord όπως [εδώ](https://towardsdatascience.com/working-with-tfrecords-and-tf-train-example-36d111b3ff4d).\n"
      ]
    },
    {
      "cell_type": "markdown",
      "metadata": {
        "id": "opv_oT-U_YY3",
        "colab_type": "text"
      },
      "source": [
        "# Ερώτημα 1\n"
      ]
    },
    {
      "cell_type": "markdown",
      "metadata": {
        "id": "KYicJh_P_iCt",
        "colab_type": "text"
      },
      "source": [
        "## Βήμα 1.1: Σχεδίαση Μοντέλων\n"
      ]
    },
    {
      "cell_type": "markdown",
      "metadata": {
        "id": "1koiquw7_xIO",
        "colab_type": "text"
      },
      "source": [
        "1.1.  Σχεδίασετε αρχικά τα ακόλουθα μοντέλα:\n",
        "\n",
        "  1.   **Softmax (baseline)**: FC(200), SOFTMAX\n",
        "\n",
        "  2.   **MLP**: FC(512), RELU, FC(200), SOFTMAX\n",
        "\n",
        "  3.   **LeNet**: CONV(32, 3), RELU, POOL(2), CONV(32,3), RELU, POOL(2), FC(512, RELU, FC(200),SOFTMAX\n",
        "\n",
        "  4. **CNN1**: CONV(16, 5), RELU, POOL(2), CONV(16,3), RELU, POOL(2), CONV(32, 3), RELU, FC(200), SOFTMAX\n",
        "\n",
        "  5. **CNN2**: σχεδίαστε την αρχιτεκτονική του και δικού σας μοντέλου \n",
        "\n"
      ]
    },
    {
      "cell_type": "markdown",
      "metadata": {
        "id": "SEu5WB98ABie",
        "colab_type": "text"
      },
      "source": [
        "###**Μοντέλο 1: Softmax (baseline)**\n"
      ]
    },
    {
      "cell_type": "code",
      "metadata": {
        "id": "fjMftlBSFs1Z",
        "colab_type": "code",
        "colab": {}
      },
      "source": [
        "#Model_1: FC(200), SOFTMAX\n",
        "model_1 = models.Sequential()\n",
        "model_1.add(layers.Flatten(input_shape=(32,32,3)))\n",
        "model_1.add(layers.Dense(200, activation='relu'))\n",
        "model_1.add(layers.Dense(20, activation='softmax'))"
      ],
      "execution_count": null,
      "outputs": []
    },
    {
      "cell_type": "code",
      "metadata": {
        "id": "ZqAD7v8qiUrm",
        "colab_type": "code",
        "colab": {
          "base_uri": "https://localhost:8080/",
          "height": 260
        },
        "outputId": "b934033f-e90a-4d13-b4e2-afee2070eecf"
      },
      "source": [
        "model_1.summary()"
      ],
      "execution_count": null,
      "outputs": [
        {
          "output_type": "stream",
          "text": [
            "Model: \"sequential\"\n",
            "_________________________________________________________________\n",
            "Layer (type)                 Output Shape              Param #   \n",
            "=================================================================\n",
            "flatten (Flatten)            (None, 3072)              0         \n",
            "_________________________________________________________________\n",
            "dense (Dense)                (None, 200)               614600    \n",
            "_________________________________________________________________\n",
            "dense_1 (Dense)              (None, 20)                4020      \n",
            "=================================================================\n",
            "Total params: 618,620\n",
            "Trainable params: 618,620\n",
            "Non-trainable params: 0\n",
            "_________________________________________________________________\n"
          ],
          "name": "stdout"
        }
      ]
    },
    {
      "cell_type": "markdown",
      "metadata": {
        "id": "mPVvJ5FrATO2",
        "colab_type": "text"
      },
      "source": [
        "### **Μοντέλο 2: MLP** "
      ]
    },
    {
      "cell_type": "code",
      "metadata": {
        "id": "xupMmVaRHZOs",
        "colab_type": "code",
        "colab": {}
      },
      "source": [
        "#Model_2: FC(512), RELU, FC(200), SOFTMAX\n",
        "model_2 = models.Sequential()\n",
        "model_2.add(layers.Flatten(input_shape=(32,32,3)))\n",
        "model_2.add(layers.Dense(512, activation='relu'))\n",
        "model_2.add(layers.Dense(200, activation='relu'))\n",
        "model_2.add(layers.Dense(20, activation='softmax'))"
      ],
      "execution_count": null,
      "outputs": []
    },
    {
      "cell_type": "code",
      "metadata": {
        "id": "gJYiep0u3vey",
        "colab_type": "code",
        "colab": {
          "base_uri": "https://localhost:8080/",
          "height": 295
        },
        "outputId": "095eaa80-8187-48b3-a587-fcb77db96a5b"
      },
      "source": [
        "model_2.summary()"
      ],
      "execution_count": null,
      "outputs": [
        {
          "output_type": "stream",
          "text": [
            "Model: \"sequential_2\"\n",
            "_________________________________________________________________\n",
            "Layer (type)                 Output Shape              Param #   \n",
            "=================================================================\n",
            "flatten_2 (Flatten)          (None, 3072)              0         \n",
            "_________________________________________________________________\n",
            "dense_5 (Dense)              (None, 512)               1573376   \n",
            "_________________________________________________________________\n",
            "dense_6 (Dense)              (None, 200)               102600    \n",
            "_________________________________________________________________\n",
            "dense_7 (Dense)              (None, 20)                4020      \n",
            "=================================================================\n",
            "Total params: 1,679,996\n",
            "Trainable params: 1,679,996\n",
            "Non-trainable params: 0\n",
            "_________________________________________________________________\n"
          ],
          "name": "stdout"
        }
      ]
    },
    {
      "cell_type": "markdown",
      "metadata": {
        "id": "c8w2hdVdATn2",
        "colab_type": "text"
      },
      "source": [
        "### **Μοντέλο 3: LeNet**"
      ]
    },
    {
      "cell_type": "code",
      "metadata": {
        "id": "ipgicZnPIuY4",
        "colab_type": "code",
        "colab": {}
      },
      "source": [
        "#Model_3: CONV(32, 3), RELU, POOL(2), CONV(32,3), RELU, POOL(2), FC(512, RELU, FC(200),SOFTMAX\n",
        "model_3 = models.Sequential()\n",
        "model_3.add(layers.Conv2D(32, (3, 3), activation='relu', input_shape=(32, 32, 3)))\n",
        "model_3.add(layers.MaxPooling2D((2, 2)))\n",
        "model_3.add(layers.Conv2D(32, (3, 3), activation='relu'))\n",
        "model_3.add(layers.MaxPooling2D((2, 2)))\n",
        "\n",
        "model_3.add(layers.Flatten())\n",
        "\n",
        "model_3.add(layers.Dense(512, activation='relu'))\n",
        "model_3.add(layers.Dense(200, activation='relu'))\n",
        "model_3.add(layers.Dense(20, activation='softmax'))"
      ],
      "execution_count": null,
      "outputs": []
    },
    {
      "cell_type": "code",
      "metadata": {
        "id": "pqyhwBQ-313M",
        "colab_type": "code",
        "colab": {
          "base_uri": "https://localhost:8080/",
          "height": 434
        },
        "outputId": "fd66a0f7-8294-4cc3-acc2-3d09ed41aa61"
      },
      "source": [
        "model_3.summary()"
      ],
      "execution_count": null,
      "outputs": [
        {
          "output_type": "stream",
          "text": [
            "Model: \"sequential_3\"\n",
            "_________________________________________________________________\n",
            "Layer (type)                 Output Shape              Param #   \n",
            "=================================================================\n",
            "conv2d (Conv2D)              (None, 30, 30, 32)        896       \n",
            "_________________________________________________________________\n",
            "max_pooling2d (MaxPooling2D) (None, 15, 15, 32)        0         \n",
            "_________________________________________________________________\n",
            "conv2d_1 (Conv2D)            (None, 13, 13, 32)        9248      \n",
            "_________________________________________________________________\n",
            "max_pooling2d_1 (MaxPooling2 (None, 6, 6, 32)          0         \n",
            "_________________________________________________________________\n",
            "flatten_3 (Flatten)          (None, 1152)              0         \n",
            "_________________________________________________________________\n",
            "dense_8 (Dense)              (None, 512)               590336    \n",
            "_________________________________________________________________\n",
            "dense_9 (Dense)              (None, 200)               102600    \n",
            "_________________________________________________________________\n",
            "dense_10 (Dense)             (None, 20)                4020      \n",
            "=================================================================\n",
            "Total params: 707,100\n",
            "Trainable params: 707,100\n",
            "Non-trainable params: 0\n",
            "_________________________________________________________________\n"
          ],
          "name": "stdout"
        }
      ]
    },
    {
      "cell_type": "markdown",
      "metadata": {
        "id": "5_LD7qI-AUF5",
        "colab_type": "text"
      },
      "source": [
        "### **Μοντέλο 4: CNN1**\n",
        "\n",
        "\n"
      ]
    },
    {
      "cell_type": "code",
      "metadata": {
        "id": "UqqPv1_iK0pf",
        "colab_type": "code",
        "colab": {}
      },
      "source": [
        "#Model_4: CONV(16, 5), RELU, POOL(2), CONV(16,3), RELU, POOL(2), CONV(32, 3), RELU, FC(200), SOFTMAX\n",
        "model_4 = models.Sequential()\n",
        "model_4.add(layers.Conv2D(32, (3, 3), activation='relu', input_shape=(32, 32, 3)))\n",
        "model_4.add(layers.MaxPooling2D((2, 2)))\n",
        "model_4.add(layers.Conv2D(16, (3, 3), activation='relu'))\n",
        "model_4.add(layers.MaxPooling2D((2, 2)))\n",
        "\n",
        "model_4.add(layers.Conv2D(32, (3, 3), activation='relu'))\n",
        "model_4.add(layers.Flatten())\n",
        "model_4.add(layers.Dense(200, activation='relu'))\n",
        "model_4.add(layers.Dense(20, activation='softmax'))"
      ],
      "execution_count": null,
      "outputs": []
    },
    {
      "cell_type": "code",
      "metadata": {
        "id": "ba8s_9y_36HG",
        "colab_type": "code",
        "colab": {
          "base_uri": "https://localhost:8080/",
          "height": 434
        },
        "outputId": "260272f1-69fb-489b-f06b-b02faae3fec3"
      },
      "source": [
        "model_4.summary()"
      ],
      "execution_count": null,
      "outputs": [
        {
          "output_type": "stream",
          "text": [
            "Model: \"sequential_4\"\n",
            "_________________________________________________________________\n",
            "Layer (type)                 Output Shape              Param #   \n",
            "=================================================================\n",
            "conv2d_2 (Conv2D)            (None, 30, 30, 32)        896       \n",
            "_________________________________________________________________\n",
            "max_pooling2d_2 (MaxPooling2 (None, 15, 15, 32)        0         \n",
            "_________________________________________________________________\n",
            "conv2d_3 (Conv2D)            (None, 13, 13, 16)        4624      \n",
            "_________________________________________________________________\n",
            "max_pooling2d_3 (MaxPooling2 (None, 6, 6, 16)          0         \n",
            "_________________________________________________________________\n",
            "conv2d_4 (Conv2D)            (None, 4, 4, 32)          4640      \n",
            "_________________________________________________________________\n",
            "flatten_4 (Flatten)          (None, 512)               0         \n",
            "_________________________________________________________________\n",
            "dense_11 (Dense)             (None, 200)               102600    \n",
            "_________________________________________________________________\n",
            "dense_12 (Dense)             (None, 20)                4020      \n",
            "=================================================================\n",
            "Total params: 116,780\n",
            "Trainable params: 116,780\n",
            "Non-trainable params: 0\n",
            "_________________________________________________________________\n"
          ],
          "name": "stdout"
        }
      ]
    },
    {
      "cell_type": "markdown",
      "metadata": {
        "id": "0rNbhpZIAgaQ",
        "colab_type": "text"
      },
      "source": [
        "### **Μοντέλο 5: CNN2** "
      ]
    },
    {
      "cell_type": "code",
      "metadata": {
        "id": "ysIxDSh-zgKO",
        "colab_type": "code",
        "colab": {
          "base_uri": "https://localhost:8080/",
          "height": 434
        },
        "outputId": "42995a1f-c669-4aa1-e987-83b77f112ba4"
      },
      "source": [
        "model_5 = models.Sequential()\n",
        "model_5.add(layers.Conv2D(32, (3, 3), activation='relu', input_shape=(32, 32, 3))) \n",
        "model_5.add(layers.MaxPooling2D((2, 2)))\n",
        "model_5.add(layers.Conv2D(64, (3, 3), activation='relu'))\n",
        "model_5.add(layers.MaxPooling2D((4, 4)))\n",
        "model_5.add(layers.Flatten())\n",
        "\n",
        "model_5.add(layers.Dense(400, activation='relu'))\n",
        "model_5.add(layers.Dense(200, activation='relu'))\n",
        "model_5.add(layers.Dense(20, activation='softmax'))\n",
        "\n",
        "model_5.summary()\n"
      ],
      "execution_count": null,
      "outputs": [
        {
          "output_type": "stream",
          "text": [
            "Model: \"sequential_5\"\n",
            "_________________________________________________________________\n",
            "Layer (type)                 Output Shape              Param #   \n",
            "=================================================================\n",
            "conv2d_5 (Conv2D)            (None, 30, 30, 32)        896       \n",
            "_________________________________________________________________\n",
            "max_pooling2d_4 (MaxPooling2 (None, 15, 15, 32)        0         \n",
            "_________________________________________________________________\n",
            "conv2d_6 (Conv2D)            (None, 13, 13, 64)        18496     \n",
            "_________________________________________________________________\n",
            "max_pooling2d_5 (MaxPooling2 (None, 3, 3, 64)          0         \n",
            "_________________________________________________________________\n",
            "flatten_5 (Flatten)          (None, 576)               0         \n",
            "_________________________________________________________________\n",
            "dense_13 (Dense)             (None, 400)               230800    \n",
            "_________________________________________________________________\n",
            "dense_14 (Dense)             (None, 200)               80200     \n",
            "_________________________________________________________________\n",
            "dense_15 (Dense)             (None, 20)                4020      \n",
            "=================================================================\n",
            "Total params: 334,412\n",
            "Trainable params: 334,412\n",
            "Non-trainable params: 0\n",
            "_________________________________________________________________\n"
          ],
          "name": "stdout"
        }
      ]
    },
    {
      "cell_type": "markdown",
      "metadata": {
        "id": "j-EG6Aovv2mt",
        "colab_type": "text"
      },
      "source": [
        "## Βήμα 1.2: Μεταγλώτιση - Εκπαίδευση Μοντέλων "
      ]
    },
    {
      "cell_type": "markdown",
      "metadata": {
        "id": "WAE8j0rj_3Ph",
        "colab_type": "text"
      },
      "source": [
        "1.2.  Μεταγλωτίστε και εκπαιδεύστε, έπειτα,  όλα τα μοντέλα σας, χρησιμοποιώντας 2 διαφορετικούς (καλύτερους) συνδυασμούς optimizer, loss, metrics και epoch (θα προκύψουν 10 διαφορετικά εκπαιδευμένα μοντέλα, 2 ανά αρχιτεκτονική)."
      ]
    },
    {
      "cell_type": "markdown",
      "metadata": {
        "id": "AxkW6Fe6VZQ_",
        "colab_type": "text"
      },
      "source": [
        "**Σημαντική Σημείωση:** Να σημειωθεί ότι μετά απο κάθε πείραμα, ξαναορίζουμε το μοντέλο μας, μιας και επιθυμούμε η εκπαίδευση να γίνει στο αρχικό δίκτυο (χωρίς βάρη)."
      ]
    },
    {
      "cell_type": "markdown",
      "metadata": {
        "id": "tmsmFT7pRQx6",
        "colab_type": "text"
      },
      "source": [
        "### **Μοντέλο 1: Softmax (baseline)**"
      ]
    },
    {
      "cell_type": "markdown",
      "metadata": {
        "id": "8kUvm8TAwqpO",
        "colab_type": "text"
      },
      "source": [
        "#### Πείραμα 1"
      ]
    },
    {
      "cell_type": "code",
      "metadata": {
        "id": "dTeiebDJPFN6",
        "colab_type": "code",
        "colab": {
          "base_uri": "https://localhost:8080/",
          "height": 364
        },
        "outputId": "6f1b50ec-606a-4def-9f59-96dc0d3c4302"
      },
      "source": [
        "#1o Πείραμα:\n",
        "model_1.compile(optimizer='adam',\n",
        "              loss=tf.keras.losses.SparseCategoricalCrossentropy(from_logits=False),\n",
        "              metrics=['accuracy'])\n",
        "\n",
        "history_1_1 = model_1.fit(x_train, y_train, epochs=10, \n",
        "                    validation_data=(x_val, y_val),batch_size = 100)"
      ],
      "execution_count": null,
      "outputs": [
        {
          "output_type": "stream",
          "text": [
            "Epoch 1/10\n",
            "85/85 [==============================] - 1s 13ms/step - loss: 2.8889 - accuracy: 0.1428 - val_loss: 2.6370 - val_accuracy: 0.2020\n",
            "Epoch 2/10\n",
            "85/85 [==============================] - 1s 12ms/step - loss: 2.4953 - accuracy: 0.2446 - val_loss: 2.4423 - val_accuracy: 0.2493\n",
            "Epoch 3/10\n",
            "85/85 [==============================] - 1s 12ms/step - loss: 2.3912 - accuracy: 0.2754 - val_loss: 2.4061 - val_accuracy: 0.2680\n",
            "Epoch 4/10\n",
            "85/85 [==============================] - 1s 10ms/step - loss: 2.3210 - accuracy: 0.2981 - val_loss: 2.3848 - val_accuracy: 0.2813\n",
            "Epoch 5/10\n",
            "85/85 [==============================] - 1s 11ms/step - loss: 2.2667 - accuracy: 0.3146 - val_loss: 2.3163 - val_accuracy: 0.3120\n",
            "Epoch 6/10\n",
            "85/85 [==============================] - 1s 11ms/step - loss: 2.2361 - accuracy: 0.3259 - val_loss: 2.3285 - val_accuracy: 0.2833\n",
            "Epoch 7/10\n",
            "85/85 [==============================] - 1s 11ms/step - loss: 2.2171 - accuracy: 0.3261 - val_loss: 2.3149 - val_accuracy: 0.2980\n",
            "Epoch 8/10\n",
            "85/85 [==============================] - 1s 10ms/step - loss: 2.1926 - accuracy: 0.3348 - val_loss: 2.2687 - val_accuracy: 0.3133\n",
            "Epoch 9/10\n",
            "85/85 [==============================] - 1s 10ms/step - loss: 2.1625 - accuracy: 0.3441 - val_loss: 2.2622 - val_accuracy: 0.3047\n",
            "Epoch 10/10\n",
            "85/85 [==============================] - 1s 12ms/step - loss: 2.1283 - accuracy: 0.3614 - val_loss: 2.2640 - val_accuracy: 0.3200\n"
          ],
          "name": "stdout"
        }
      ]
    },
    {
      "cell_type": "markdown",
      "metadata": {
        "colab_type": "text",
        "id": "eduZXx3-w2rG"
      },
      "source": [
        "#### Πείραμα 2"
      ]
    },
    {
      "cell_type": "code",
      "metadata": {
        "colab_type": "code",
        "id": "5D7NkBjzWFT7",
        "colab": {}
      },
      "source": [
        "#Model_1: FC(200), SOFTMAX\n",
        "model_1 = models.Sequential()\n",
        "model_1.add(layers.Flatten(input_shape=(32,32,3)))\n",
        "model_1.add(layers.Dense(200, activation='relu'))\n",
        "model_1.add(layers.Dense(20, activation='softmax'))"
      ],
      "execution_count": null,
      "outputs": []
    },
    {
      "cell_type": "code",
      "metadata": {
        "id": "skNQ-0W1gDTo",
        "colab_type": "code",
        "colab": {
          "base_uri": "https://localhost:8080/",
          "height": 364
        },
        "outputId": "6e699407-c1cc-4eb3-d47b-614b85eb35ab"
      },
      "source": [
        "#2o Πείραμα:\n",
        "model_1.compile(optimizer='adamax',\n",
        "              loss=tf.keras.losses.SparseCategoricalCrossentropy(from_logits=False),\n",
        "              metrics=['accuracy'])\n",
        "\n",
        "history_1_2 = model_1.fit(x_train, y_train, epochs=10, \n",
        "                    validation_data=(x_val, y_val),batch_size = 100)\n"
      ],
      "execution_count": null,
      "outputs": [
        {
          "output_type": "stream",
          "text": [
            "Epoch 1/10\n",
            "85/85 [==============================] - 1s 11ms/step - loss: 2.8620 - accuracy: 0.1454 - val_loss: 2.6575 - val_accuracy: 0.1793\n",
            "Epoch 2/10\n",
            "85/85 [==============================] - 1s 12ms/step - loss: 2.5607 - accuracy: 0.2298 - val_loss: 2.5027 - val_accuracy: 0.2520\n",
            "Epoch 3/10\n",
            "85/85 [==============================] - 1s 11ms/step - loss: 2.4568 - accuracy: 0.2598 - val_loss: 2.4424 - val_accuracy: 0.2573\n",
            "Epoch 4/10\n",
            "85/85 [==============================] - 1s 10ms/step - loss: 2.3972 - accuracy: 0.2792 - val_loss: 2.4332 - val_accuracy: 0.2733\n",
            "Epoch 5/10\n",
            "85/85 [==============================] - 1s 11ms/step - loss: 2.3503 - accuracy: 0.2982 - val_loss: 2.3681 - val_accuracy: 0.2860\n",
            "Epoch 6/10\n",
            "85/85 [==============================] - 1s 12ms/step - loss: 2.3160 - accuracy: 0.2974 - val_loss: 2.3895 - val_accuracy: 0.2673\n",
            "Epoch 7/10\n",
            "85/85 [==============================] - 1s 11ms/step - loss: 2.2904 - accuracy: 0.3114 - val_loss: 2.3488 - val_accuracy: 0.2753\n",
            "Epoch 8/10\n",
            "85/85 [==============================] - 1s 11ms/step - loss: 2.2597 - accuracy: 0.3266 - val_loss: 2.3113 - val_accuracy: 0.3020\n",
            "Epoch 9/10\n",
            "85/85 [==============================] - 1s 11ms/step - loss: 2.2398 - accuracy: 0.3269 - val_loss: 2.3187 - val_accuracy: 0.3073\n",
            "Epoch 10/10\n",
            "85/85 [==============================] - 1s 11ms/step - loss: 2.2205 - accuracy: 0.3349 - val_loss: 2.3030 - val_accuracy: 0.2907\n"
          ],
          "name": "stdout"
        }
      ]
    },
    {
      "cell_type": "markdown",
      "metadata": {
        "id": "rjhSNpMDRTU_",
        "colab_type": "text"
      },
      "source": [
        "### **Μοντέλο 2: MLP** \n"
      ]
    },
    {
      "cell_type": "markdown",
      "metadata": {
        "colab_type": "text",
        "id": "PgLOQTKVwxHm"
      },
      "source": [
        "#### Πείραμα 1"
      ]
    },
    {
      "cell_type": "code",
      "metadata": {
        "id": "Uh9QVOwhRaVz",
        "colab_type": "code",
        "colab": {
          "base_uri": "https://localhost:8080/",
          "height": 364
        },
        "outputId": "c062841b-1efe-4baa-cfff-0bcfd67f4ad0"
      },
      "source": [
        "#1o Πείραμα\n",
        "model_2.compile(optimizer='adamax',\n",
        "              loss=tf.keras.losses.SparseCategoricalCrossentropy(from_logits=False),\n",
        "              metrics=['accuracy'])\n",
        "\n",
        "history_2_1 = model_2.fit(x_train, y_train, epochs=10, \n",
        "                    validation_data=(x_val, y_val),batch_size = 10)"
      ],
      "execution_count": null,
      "outputs": [
        {
          "output_type": "stream",
          "text": [
            "Epoch 1/10\n",
            "850/850 [==============================] - 8s 10ms/step - loss: 2.6937 - accuracy: 0.1720 - val_loss: 2.4875 - val_accuracy: 0.2433\n",
            "Epoch 2/10\n",
            "850/850 [==============================] - 8s 9ms/step - loss: 2.4135 - accuracy: 0.2562 - val_loss: 2.4090 - val_accuracy: 0.2660\n",
            "Epoch 3/10\n",
            "850/850 [==============================] - 8s 9ms/step - loss: 2.3088 - accuracy: 0.2985 - val_loss: 2.3665 - val_accuracy: 0.2680\n",
            "Epoch 4/10\n",
            "850/850 [==============================] - 8s 9ms/step - loss: 2.2371 - accuracy: 0.3161 - val_loss: 2.2779 - val_accuracy: 0.3040\n",
            "Epoch 5/10\n",
            "850/850 [==============================] - 8s 9ms/step - loss: 2.1656 - accuracy: 0.3345 - val_loss: 2.2267 - val_accuracy: 0.3113\n",
            "Epoch 6/10\n",
            "850/850 [==============================] - 9s 11ms/step - loss: 2.1158 - accuracy: 0.3547 - val_loss: 2.2364 - val_accuracy: 0.3020\n",
            "Epoch 7/10\n",
            "850/850 [==============================] - 8s 9ms/step - loss: 2.0708 - accuracy: 0.3599 - val_loss: 2.2362 - val_accuracy: 0.3273\n",
            "Epoch 8/10\n",
            "850/850 [==============================] - 8s 10ms/step - loss: 2.0151 - accuracy: 0.3876 - val_loss: 2.1967 - val_accuracy: 0.3487\n",
            "Epoch 9/10\n",
            "850/850 [==============================] - 8s 10ms/step - loss: 1.9714 - accuracy: 0.3941 - val_loss: 2.1710 - val_accuracy: 0.3433\n",
            "Epoch 10/10\n",
            "850/850 [==============================] - 9s 10ms/step - loss: 1.9214 - accuracy: 0.4108 - val_loss: 2.1174 - val_accuracy: 0.3493\n"
          ],
          "name": "stdout"
        }
      ]
    },
    {
      "cell_type": "markdown",
      "metadata": {
        "colab_type": "text",
        "id": "_Lalw6Ptw8QU"
      },
      "source": [
        "#### Πείραμα 2"
      ]
    },
    {
      "cell_type": "code",
      "metadata": {
        "colab_type": "code",
        "id": "gTRvEouzWSuE",
        "colab": {}
      },
      "source": [
        "#Model_2: FC(512), RELU, FC(200), SOFTMAX\n",
        "model_2 = models.Sequential()\n",
        "model_2.add(layers.Flatten(input_shape=(32,32,3)))\n",
        "model_2.add(layers.Dense(512, activation='relu'))\n",
        "model_2.add(layers.Dense(200, activation='relu'))\n",
        "model_2.add(layers.Dense(20, activation='softmax'))"
      ],
      "execution_count": null,
      "outputs": []
    },
    {
      "cell_type": "code",
      "metadata": {
        "id": "Cx0R1pRNg1Nz",
        "colab_type": "code",
        "colab": {
          "base_uri": "https://localhost:8080/",
          "height": 364
        },
        "outputId": "69c29835-e2b2-437d-dabb-09eb20da5ce9"
      },
      "source": [
        "#2o Πείραμα\n",
        "model_2.compile(optimizer='adamax',\n",
        "              loss=tf.keras.losses.SparseCategoricalCrossentropy(from_logits=False),\n",
        "              metrics=['accuracy'])\n",
        "\n",
        "history_2_2 = model_2.fit(x_train, y_train, epochs=10, \n",
        "                    validation_data=(x_val, y_val),batch_size = 100)"
      ],
      "execution_count": null,
      "outputs": [
        {
          "output_type": "stream",
          "text": [
            "Epoch 1/10\n",
            "85/85 [==============================] - 2s 25ms/step - loss: 2.7919 - accuracy: 0.1432 - val_loss: 2.5739 - val_accuracy: 0.2160\n",
            "Epoch 2/10\n",
            "85/85 [==============================] - 2s 23ms/step - loss: 2.5053 - accuracy: 0.2256 - val_loss: 2.4866 - val_accuracy: 0.2440\n",
            "Epoch 3/10\n",
            "85/85 [==============================] - 2s 22ms/step - loss: 2.4069 - accuracy: 0.2625 - val_loss: 2.4398 - val_accuracy: 0.2633\n",
            "Epoch 4/10\n",
            "85/85 [==============================] - 2s 23ms/step - loss: 2.3525 - accuracy: 0.2767 - val_loss: 2.3830 - val_accuracy: 0.2827\n",
            "Epoch 5/10\n",
            "85/85 [==============================] - 2s 22ms/step - loss: 2.2918 - accuracy: 0.3006 - val_loss: 2.3757 - val_accuracy: 0.2833\n",
            "Epoch 6/10\n",
            "85/85 [==============================] - 2s 23ms/step - loss: 2.2362 - accuracy: 0.3242 - val_loss: 2.3106 - val_accuracy: 0.2907\n",
            "Epoch 7/10\n",
            "85/85 [==============================] - 2s 23ms/step - loss: 2.2070 - accuracy: 0.3333 - val_loss: 2.2770 - val_accuracy: 0.2960\n",
            "Epoch 8/10\n",
            "85/85 [==============================] - 2s 23ms/step - loss: 2.1650 - accuracy: 0.3444 - val_loss: 2.2581 - val_accuracy: 0.3007\n",
            "Epoch 9/10\n",
            "85/85 [==============================] - 2s 23ms/step - loss: 2.1442 - accuracy: 0.3489 - val_loss: 2.2283 - val_accuracy: 0.3040\n",
            "Epoch 10/10\n",
            "85/85 [==============================] - 2s 22ms/step - loss: 2.1111 - accuracy: 0.3587 - val_loss: 2.2150 - val_accuracy: 0.3140\n"
          ],
          "name": "stdout"
        }
      ]
    },
    {
      "cell_type": "markdown",
      "metadata": {
        "id": "HCnNffQ9RnuP",
        "colab_type": "text"
      },
      "source": [
        "### **Μοντέλο 3: LeNet**"
      ]
    },
    {
      "cell_type": "markdown",
      "metadata": {
        "colab_type": "text",
        "id": "fDX7vi9twz0F"
      },
      "source": [
        "#### Πείραμα 1"
      ]
    },
    {
      "cell_type": "code",
      "metadata": {
        "id": "_IHs9RWwRyZJ",
        "colab_type": "code",
        "colab": {
          "base_uri": "https://localhost:8080/",
          "height": 364
        },
        "outputId": "7d21b92f-3a5c-4faa-91f1-cf2c9f88deb8"
      },
      "source": [
        "#1ο Πείραμα\n",
        "model_3.compile(optimizer='adam',\n",
        "              loss=tf.keras.losses.SparseCategoricalCrossentropy(from_logits=False),\n",
        "              metrics=['accuracy'])\n",
        "\n",
        "history_3_1 = model_3.fit(x_train, y_train, epochs=10, \n",
        "                    validation_data=(x_val, y_val),batch_size = 10)"
      ],
      "execution_count": null,
      "outputs": [
        {
          "output_type": "stream",
          "text": [
            "Epoch 1/10\n",
            "850/850 [==============================] - 16s 19ms/step - loss: 2.4481 - accuracy: 0.2498 - val_loss: 2.1357 - val_accuracy: 0.3480\n",
            "Epoch 2/10\n",
            "850/850 [==============================] - 15s 18ms/step - loss: 1.9751 - accuracy: 0.3972 - val_loss: 1.9866 - val_accuracy: 0.3813\n",
            "Epoch 3/10\n",
            "850/850 [==============================] - 15s 18ms/step - loss: 1.6890 - accuracy: 0.4768 - val_loss: 1.8295 - val_accuracy: 0.4360\n",
            "Epoch 4/10\n",
            "850/850 [==============================] - 16s 18ms/step - loss: 1.4618 - accuracy: 0.5464 - val_loss: 1.7571 - val_accuracy: 0.4693\n",
            "Epoch 5/10\n",
            "850/850 [==============================] - 15s 18ms/step - loss: 1.2034 - accuracy: 0.6173 - val_loss: 1.7933 - val_accuracy: 0.4907\n",
            "Epoch 6/10\n",
            "850/850 [==============================] - 15s 18ms/step - loss: 0.9479 - accuracy: 0.6961 - val_loss: 1.8555 - val_accuracy: 0.4927\n",
            "Epoch 7/10\n",
            "850/850 [==============================] - 16s 18ms/step - loss: 0.7123 - accuracy: 0.7735 - val_loss: 2.1437 - val_accuracy: 0.4933\n",
            "Epoch 8/10\n",
            "850/850 [==============================] - 15s 18ms/step - loss: 0.5153 - accuracy: 0.8336 - val_loss: 2.3275 - val_accuracy: 0.5027\n",
            "Epoch 9/10\n",
            "850/850 [==============================] - 15s 18ms/step - loss: 0.3714 - accuracy: 0.8831 - val_loss: 2.4955 - val_accuracy: 0.4787\n",
            "Epoch 10/10\n",
            "850/850 [==============================] - 15s 18ms/step - loss: 0.2977 - accuracy: 0.9048 - val_loss: 2.9449 - val_accuracy: 0.4680\n"
          ],
          "name": "stdout"
        }
      ]
    },
    {
      "cell_type": "markdown",
      "metadata": {
        "colab_type": "text",
        "id": "0lnqFD37xA-x"
      },
      "source": [
        "#### Πείραμα 2"
      ]
    },
    {
      "cell_type": "code",
      "metadata": {
        "colab_type": "code",
        "id": "KjKHD7ReYv64",
        "colab": {}
      },
      "source": [
        "#Model_3: CONV(32, 3), RELU, POOL(2), CONV(32,3), RELU, POOL(2), FC(512, RELU, FC(200),SOFTMAX\n",
        "model_3 = models.Sequential()\n",
        "model_3.add(layers.Conv2D(32, (3, 3), activation='relu', input_shape=(32, 32, 3)))\n",
        "model_3.add(layers.MaxPooling2D((2, 2)))\n",
        "model_3.add(layers.Conv2D(32, (3, 3), activation='relu'))\n",
        "model_3.add(layers.MaxPooling2D((2, 2)))\n",
        "\n",
        "model_3.add(layers.Flatten())\n",
        "\n",
        "model_3.add(layers.Dense(512, activation='relu'))\n",
        "model_3.add(layers.Dense(200, activation='relu'))\n",
        "model_3.add(layers.Dense(20, activation='softmax'))"
      ],
      "execution_count": null,
      "outputs": []
    },
    {
      "cell_type": "code",
      "metadata": {
        "id": "UoLNRWFshtf6",
        "colab_type": "code",
        "colab": {
          "base_uri": "https://localhost:8080/",
          "height": 364
        },
        "outputId": "6555da22-8fcf-4065-c38f-cc2ad0fb7982"
      },
      "source": [
        "#2ο Πείραμα\n",
        "model_3.compile(optimizer='sgd',\n",
        "              loss=tf.keras.losses.SparseCategoricalCrossentropy(from_logits=False),\n",
        "              metrics=['accuracy'])\n",
        "\n",
        "history_3_2 = model_3.fit(x_train, y_train, epochs=10, \n",
        "                    validation_data=(x_val, y_val),batch_size = 10)"
      ],
      "execution_count": null,
      "outputs": [
        {
          "output_type": "stream",
          "text": [
            "Epoch 1/10\n",
            "850/850 [==============================] - 15s 18ms/step - loss: 2.8318 - accuracy: 0.1179 - val_loss: 2.6521 - val_accuracy: 0.1673\n",
            "Epoch 2/10\n",
            "850/850 [==============================] - 15s 17ms/step - loss: 2.5115 - accuracy: 0.2209 - val_loss: 2.4670 - val_accuracy: 0.2553\n",
            "Epoch 3/10\n",
            "850/850 [==============================] - 14s 17ms/step - loss: 2.3404 - accuracy: 0.2800 - val_loss: 2.3177 - val_accuracy: 0.2873\n",
            "Epoch 4/10\n",
            "850/850 [==============================] - 15s 17ms/step - loss: 2.2251 - accuracy: 0.3181 - val_loss: 2.1876 - val_accuracy: 0.3260\n",
            "Epoch 5/10\n",
            "850/850 [==============================] - 15s 17ms/step - loss: 2.1037 - accuracy: 0.3573 - val_loss: 2.1839 - val_accuracy: 0.3280\n",
            "Epoch 6/10\n",
            "850/850 [==============================] - 16s 18ms/step - loss: 1.9951 - accuracy: 0.3901 - val_loss: 2.0032 - val_accuracy: 0.3953\n",
            "Epoch 7/10\n",
            "850/850 [==============================] - 15s 17ms/step - loss: 1.8847 - accuracy: 0.4232 - val_loss: 2.0157 - val_accuracy: 0.3733\n",
            "Epoch 8/10\n",
            "850/850 [==============================] - 15s 18ms/step - loss: 1.7880 - accuracy: 0.4533 - val_loss: 2.0652 - val_accuracy: 0.3787\n",
            "Epoch 9/10\n",
            "850/850 [==============================] - 15s 18ms/step - loss: 1.6939 - accuracy: 0.4753 - val_loss: 1.8334 - val_accuracy: 0.4527\n",
            "Epoch 10/10\n",
            "850/850 [==============================] - 15s 17ms/step - loss: 1.5890 - accuracy: 0.5087 - val_loss: 1.8407 - val_accuracy: 0.4427\n"
          ],
          "name": "stdout"
        }
      ]
    },
    {
      "cell_type": "markdown",
      "metadata": {
        "id": "G0Xr3d83SJy6",
        "colab_type": "text"
      },
      "source": [
        "### **Μοντέλο 4: CNN1**"
      ]
    },
    {
      "cell_type": "markdown",
      "metadata": {
        "colab_type": "text",
        "id": "elmQ9H5Hw0sO"
      },
      "source": [
        "#### Πείραμα 1"
      ]
    },
    {
      "cell_type": "code",
      "metadata": {
        "id": "8j2BAg0ISMQ9",
        "colab_type": "code",
        "colab": {
          "base_uri": "https://localhost:8080/",
          "height": 364
        },
        "outputId": "fd7b19f8-76a0-44e7-91a8-59194bef4626"
      },
      "source": [
        "#1ο Πείραμα\n",
        "model_4.compile(optimizer='adam',\n",
        "              loss=tf.keras.losses.SparseCategoricalCrossentropy(from_logits=False),\n",
        "              metrics=['accuracy'])\n",
        "\n",
        "history_4_1 = model_4.fit(x_train, y_train, epochs=10, \n",
        "                    validation_data=(x_val, y_val),batch_size = 100)"
      ],
      "execution_count": null,
      "outputs": [
        {
          "output_type": "stream",
          "text": [
            "Epoch 1/10\n",
            "85/85 [==============================] - 7s 84ms/step - loss: 2.7714 - accuracy: 0.1338 - val_loss: 2.5515 - val_accuracy: 0.2280\n",
            "Epoch 2/10\n",
            "85/85 [==============================] - 7s 83ms/step - loss: 2.3916 - accuracy: 0.2645 - val_loss: 2.3030 - val_accuracy: 0.2987\n",
            "Epoch 3/10\n",
            "85/85 [==============================] - 7s 83ms/step - loss: 2.2159 - accuracy: 0.3286 - val_loss: 2.2129 - val_accuracy: 0.3113\n",
            "Epoch 4/10\n",
            "85/85 [==============================] - 7s 84ms/step - loss: 2.0664 - accuracy: 0.3747 - val_loss: 2.0438 - val_accuracy: 0.3773\n",
            "Epoch 5/10\n",
            "85/85 [==============================] - 7s 83ms/step - loss: 1.9653 - accuracy: 0.4028 - val_loss: 2.0145 - val_accuracy: 0.3807\n",
            "Epoch 6/10\n",
            "85/85 [==============================] - 7s 83ms/step - loss: 1.8680 - accuracy: 0.4318 - val_loss: 2.0320 - val_accuracy: 0.3733\n",
            "Epoch 7/10\n",
            "85/85 [==============================] - 7s 84ms/step - loss: 1.7918 - accuracy: 0.4511 - val_loss: 1.8928 - val_accuracy: 0.4153\n",
            "Epoch 8/10\n",
            "85/85 [==============================] - 7s 84ms/step - loss: 1.7145 - accuracy: 0.4751 - val_loss: 1.8784 - val_accuracy: 0.4167\n",
            "Epoch 9/10\n",
            "85/85 [==============================] - 7s 83ms/step - loss: 1.6493 - accuracy: 0.4958 - val_loss: 1.7794 - val_accuracy: 0.4687\n",
            "Epoch 10/10\n",
            "85/85 [==============================] - 7s 84ms/step - loss: 1.5762 - accuracy: 0.5195 - val_loss: 1.7969 - val_accuracy: 0.4607\n"
          ],
          "name": "stdout"
        }
      ]
    },
    {
      "cell_type": "markdown",
      "metadata": {
        "colab_type": "text",
        "id": "lkoCdJ3Ox4U7"
      },
      "source": [
        "#### Πείραμα 2"
      ]
    },
    {
      "cell_type": "code",
      "metadata": {
        "colab_type": "code",
        "id": "prsP2mMybLn1",
        "colab": {}
      },
      "source": [
        "#Model_4: CONV(16, 5), RELU, POOL(2), CONV(16,3), RELU, POOL(2), CONV(32, 3), RELU, FC(200), SOFTMAX\n",
        "model_4 = models.Sequential()\n",
        "model_4.add(layers.Conv2D(32, (3, 3), activation='relu', input_shape=(32, 32, 3)))\n",
        "model_4.add(layers.MaxPooling2D((2, 2)))\n",
        "model_4.add(layers.Conv2D(16, (3, 3), activation='relu'))\n",
        "model_4.add(layers.MaxPooling2D((2, 2)))\n",
        "\n",
        "model_4.add(layers.Conv2D(32, (3, 3), activation='relu'))\n",
        "model_4.add(layers.Flatten())\n",
        "model_4.add(layers.Dense(200, activation='relu'))\n",
        "model_4.add(layers.Dense(20, activation='softmax'))"
      ],
      "execution_count": null,
      "outputs": []
    },
    {
      "cell_type": "code",
      "metadata": {
        "id": "ghmGlBlMiFdn",
        "colab_type": "code",
        "colab": {
          "base_uri": "https://localhost:8080/",
          "height": 364
        },
        "outputId": "1e6e73f6-b0c6-483a-f8ac-7901a4a4e1fc"
      },
      "source": [
        "#2ο Πείραμα\n",
        "model_4.compile(optimizer='adam',\n",
        "              loss=tf.keras.losses.SparseCategoricalCrossentropy(from_logits=False),\n",
        "              metrics=['accuracy'])\n",
        "\n",
        "history_4_2 = model_4.fit(x_train, y_train, epochs=10, \n",
        "                    validation_data=(x_val, y_val),batch_size = 100)"
      ],
      "execution_count": null,
      "outputs": [
        {
          "output_type": "stream",
          "text": [
            "Epoch 1/10\n",
            "85/85 [==============================] - 7s 83ms/step - loss: 2.6995 - accuracy: 0.1621 - val_loss: 2.5573 - val_accuracy: 0.2227\n",
            "Epoch 2/10\n",
            "85/85 [==============================] - 7s 84ms/step - loss: 2.3982 - accuracy: 0.2672 - val_loss: 2.3836 - val_accuracy: 0.2713\n",
            "Epoch 3/10\n",
            "85/85 [==============================] - 7s 83ms/step - loss: 2.2501 - accuracy: 0.3155 - val_loss: 2.2375 - val_accuracy: 0.3200\n",
            "Epoch 4/10\n",
            "85/85 [==============================] - 7s 83ms/step - loss: 2.1270 - accuracy: 0.3547 - val_loss: 2.1672 - val_accuracy: 0.3487\n",
            "Epoch 5/10\n",
            "85/85 [==============================] - 7s 83ms/step - loss: 2.0303 - accuracy: 0.3832 - val_loss: 2.0721 - val_accuracy: 0.3693\n",
            "Epoch 6/10\n",
            "85/85 [==============================] - 7s 84ms/step - loss: 1.9461 - accuracy: 0.4065 - val_loss: 1.9793 - val_accuracy: 0.4007\n",
            "Epoch 7/10\n",
            "85/85 [==============================] - 7s 84ms/step - loss: 1.8653 - accuracy: 0.4313 - val_loss: 1.9199 - val_accuracy: 0.4180\n",
            "Epoch 8/10\n",
            "85/85 [==============================] - 7s 84ms/step - loss: 1.7936 - accuracy: 0.4518 - val_loss: 1.8881 - val_accuracy: 0.4167\n",
            "Epoch 9/10\n",
            "85/85 [==============================] - 7s 83ms/step - loss: 1.7262 - accuracy: 0.4713 - val_loss: 1.8420 - val_accuracy: 0.4367\n",
            "Epoch 10/10\n",
            "85/85 [==============================] - 7s 85ms/step - loss: 1.6663 - accuracy: 0.4864 - val_loss: 1.8339 - val_accuracy: 0.4360\n"
          ],
          "name": "stdout"
        }
      ]
    },
    {
      "cell_type": "markdown",
      "metadata": {
        "colab_type": "text",
        "id": "D_T_d26n1xHl"
      },
      "source": [
        "### **Μοντέλο 5: CNN2** "
      ]
    },
    {
      "cell_type": "markdown",
      "metadata": {
        "colab_type": "text",
        "id": "n64uTRHJ103u"
      },
      "source": [
        "#### Πείραμα 1"
      ]
    },
    {
      "cell_type": "code",
      "metadata": {
        "id": "TnJnvpjj2c75",
        "colab_type": "code",
        "colab": {
          "base_uri": "https://localhost:8080/",
          "height": 364
        },
        "outputId": "512ee9ef-a43a-4e1a-e689-0aabcd66cea1"
      },
      "source": [
        "model_5.compile(optimizer='adam',\n",
        "              loss=tf.keras.losses.SparseCategoricalCrossentropy(from_logits=False),\n",
        "              metrics=['accuracy'])\n",
        "\n",
        "history_5_1 = model_5.fit(x_train, y_train, epochs=10, \n",
        "                    validation_data=(x_val, y_val),batch_size = 10)"
      ],
      "execution_count": null,
      "outputs": [
        {
          "output_type": "stream",
          "text": [
            "Epoch 1/10\n",
            "850/850 [==============================] - 15s 18ms/step - loss: 2.5033 - accuracy: 0.2241 - val_loss: 2.2802 - val_accuracy: 0.3040\n",
            "Epoch 2/10\n",
            "850/850 [==============================] - 15s 17ms/step - loss: 2.0160 - accuracy: 0.3822 - val_loss: 1.8505 - val_accuracy: 0.4207\n",
            "Epoch 3/10\n",
            "850/850 [==============================] - 15s 17ms/step - loss: 1.7194 - accuracy: 0.4696 - val_loss: 1.7751 - val_accuracy: 0.4613\n",
            "Epoch 4/10\n",
            "850/850 [==============================] - 14s 17ms/step - loss: 1.5058 - accuracy: 0.5359 - val_loss: 1.7119 - val_accuracy: 0.4660\n",
            "Epoch 5/10\n",
            "850/850 [==============================] - 14s 17ms/step - loss: 1.3435 - accuracy: 0.5807 - val_loss: 1.6493 - val_accuracy: 0.4907\n",
            "Epoch 6/10\n",
            "850/850 [==============================] - 15s 17ms/step - loss: 1.1787 - accuracy: 0.6314 - val_loss: 1.6749 - val_accuracy: 0.4993\n",
            "Epoch 7/10\n",
            "850/850 [==============================] - 14s 17ms/step - loss: 1.0210 - accuracy: 0.6708 - val_loss: 1.8636 - val_accuracy: 0.4947\n",
            "Epoch 8/10\n",
            "850/850 [==============================] - 14s 17ms/step - loss: 0.8700 - accuracy: 0.7193 - val_loss: 1.6955 - val_accuracy: 0.5220\n",
            "Epoch 9/10\n",
            "850/850 [==============================] - 14s 17ms/step - loss: 0.7225 - accuracy: 0.7634 - val_loss: 1.8061 - val_accuracy: 0.5367\n",
            "Epoch 10/10\n",
            "850/850 [==============================] - 14s 17ms/step - loss: 0.5869 - accuracy: 0.8119 - val_loss: 1.9174 - val_accuracy: 0.5407\n"
          ],
          "name": "stdout"
        }
      ]
    },
    {
      "cell_type": "markdown",
      "metadata": {
        "colab_type": "text",
        "id": "e9D0e1_M12m7"
      },
      "source": [
        "#### Πείραμα 2"
      ]
    },
    {
      "cell_type": "code",
      "metadata": {
        "colab_type": "code",
        "id": "evo3QETScGjr",
        "colab": {}
      },
      "source": [
        "model_5 = models.Sequential()\n",
        "model_5.add(layers.Conv2D(32, (3, 3), activation='relu', input_shape=(32, 32, 3))) \n",
        "model_5.add(layers.MaxPooling2D((2, 2)))\n",
        "model_5.add(layers.Conv2D(64, (3, 3), activation='relu'))\n",
        "model_5.add(layers.MaxPooling2D((4, 4)))\n",
        "model_5.add(layers.Flatten())\n",
        "\n",
        "model_5.add(layers.Dense(400, activation='relu'))\n",
        "model_5.add(layers.Dense(200, activation='relu'))\n",
        "model_5.add(layers.Dense(20, activation='softmax'))"
      ],
      "execution_count": null,
      "outputs": []
    },
    {
      "cell_type": "code",
      "metadata": {
        "id": "rtlZ9jem2nQ6",
        "colab_type": "code",
        "colab": {
          "base_uri": "https://localhost:8080/",
          "height": 364
        },
        "outputId": "44c1591a-ad75-45f6-cc3c-19348252b544"
      },
      "source": [
        "model_5.compile(optimizer='sgd',\n",
        "              loss=tf.keras.losses.SparseCategoricalCrossentropy(from_logits=False),\n",
        "              metrics=['accuracy'])\n",
        "\n",
        "history_5_2 = model_5.fit(x_train, y_train, epochs=10, \n",
        "                    validation_data=(x_val, y_val),batch_size = 10)"
      ],
      "execution_count": null,
      "outputs": [
        {
          "output_type": "stream",
          "text": [
            "Epoch 1/10\n",
            "850/850 [==============================] - 16s 19ms/step - loss: 2.9098 - accuracy: 0.1081 - val_loss: 2.7361 - val_accuracy: 0.1640\n",
            "Epoch 2/10\n",
            "850/850 [==============================] - 14s 17ms/step - loss: 2.5905 - accuracy: 0.1968 - val_loss: 2.5146 - val_accuracy: 0.2400\n",
            "Epoch 3/10\n",
            "850/850 [==============================] - 14s 17ms/step - loss: 2.4072 - accuracy: 0.2573 - val_loss: 2.3612 - val_accuracy: 0.2620\n",
            "Epoch 4/10\n",
            "850/850 [==============================] - 14s 17ms/step - loss: 2.2520 - accuracy: 0.3058 - val_loss: 2.2302 - val_accuracy: 0.3087\n",
            "Epoch 5/10\n",
            "850/850 [==============================] - 15s 17ms/step - loss: 2.1255 - accuracy: 0.3482 - val_loss: 2.0963 - val_accuracy: 0.3540\n",
            "Epoch 6/10\n",
            "850/850 [==============================] - 15s 17ms/step - loss: 2.0143 - accuracy: 0.3809 - val_loss: 2.0128 - val_accuracy: 0.3860\n",
            "Epoch 7/10\n",
            "850/850 [==============================] - 14s 16ms/step - loss: 1.9259 - accuracy: 0.4118 - val_loss: 1.9724 - val_accuracy: 0.4013\n",
            "Epoch 8/10\n",
            "850/850 [==============================] - 14s 17ms/step - loss: 1.8402 - accuracy: 0.4293 - val_loss: 1.9115 - val_accuracy: 0.4040\n",
            "Epoch 9/10\n",
            "850/850 [==============================] - 14s 17ms/step - loss: 1.7601 - accuracy: 0.4615 - val_loss: 1.8376 - val_accuracy: 0.4447\n",
            "Epoch 10/10\n",
            "850/850 [==============================] - 14s 16ms/step - loss: 1.6777 - accuracy: 0.4840 - val_loss: 1.8138 - val_accuracy: 0.4660\n"
          ],
          "name": "stdout"
        }
      ]
    },
    {
      "cell_type": "markdown",
      "metadata": {
        "id": "pqE0TT72UmCt",
        "colab_type": "text"
      },
      "source": [
        "## Βήμα 2: Aξιολόγηση των μοντέλων"
      ]
    },
    {
      "cell_type": "markdown",
      "metadata": {
        "id": "nitZDNhWUx2H",
        "colab_type": "text"
      },
      "source": [
        "---\n",
        "2.1. Για κάθε ένα από τα μοντέλα που εκπαιδεύσατε, απεικονίστε σε κοινό διάγραμμα την ακρίβεια εκπαίδευσης και την ακρίβεια επικύρωσης στο σύνολο των εποχών, για κάθε διαφορετικό συνδυασμό του βήματος 1.2 (10 διαγράμματα) και επιλέξτε αυτό με την καλύτερη ακρίβεια από κάθε μοντέλο (ένα από κάθε αρχιτεκτονική, συνολικά 5).\n",
        "\n",
        "---"
      ]
    },
    {
      "cell_type": "code",
      "metadata": {
        "id": "-7AGs3TxVkrM",
        "colab_type": "code",
        "colab": {
          "base_uri": "https://localhost:8080/",
          "height": 436
        },
        "outputId": "6046b634-81b0-4764-cd6f-3664061e959c"
      },
      "source": [
        "plt.figure(figsize=(30, 10))\n",
        "\n",
        "###################### 1st ROW #####################################\n",
        "plt.subplot(2, 5, 1)\n",
        "plt.plot(history_1_1.history['accuracy'], label='accuracy')\n",
        "plt.plot(history_1_1.history['val_accuracy'], label = 'val_accuracy')\n",
        "plt.xlabel('Epoch')\n",
        "plt.ylabel('Accuracy')\n",
        "plt.ylim([0.1, 0.5])\n",
        "plt.legend(loc='lower right')\n",
        "plt.title(\"M1, Optimizer: Adam, BS = 100\",size=20)\n",
        "\n",
        "plt.subplot(2, 5, 2)\n",
        "plt.plot(history_2_1.history['accuracy'], label='accuracy')\n",
        "plt.plot(history_2_1.history['val_accuracy'], label = 'val_accuracy')\n",
        "plt.xlabel('Epoch')\n",
        "plt.ylabel('Accuracy')\n",
        "plt.ylim([0.1, 0.6])\n",
        "plt.legend(loc='lower right')\n",
        "plt.title(\"M2, Optimizer: Adamax, BS = 10\",size=20)\n",
        "\n",
        "plt.subplot(2, 5, 3)\n",
        "plt.plot(history_3_1.history['accuracy'], label='accuracy')\n",
        "plt.plot(history_3_1.history['val_accuracy'], label = 'val_accuracy')\n",
        "plt.xlabel('Epoch')\n",
        "plt.ylabel('Accuracy')\n",
        "plt.ylim([0, 1])\n",
        "plt.legend(loc='lower right')\n",
        "plt.title(\"M3, Optimizer: Adam, BS = 10\",size=20)\n",
        "\n",
        "plt.subplot(2, 5, 4)\n",
        "plt.plot(history_4_1.history['accuracy'], label='accuracy')\n",
        "plt.plot(history_4_1.history['val_accuracy'], label = 'val_accuracy')\n",
        "plt.xlabel('Epoch')\n",
        "plt.ylabel('Accuracy')\n",
        "plt.ylim([0, 0.7])\n",
        "plt.legend(loc='lower right')\n",
        "plt.title(\"M4, Optimizer: Adam, BS = 100, from_logits=T\",size=20)\n",
        "\n",
        "plt.subplot(2, 5, 5)\n",
        "plt.plot(history_5_1.history['accuracy'], label='accuracy')\n",
        "plt.plot(history_5_1.history['val_accuracy'], label = 'val_accuracy')\n",
        "plt.xlabel('Epoch')\n",
        "plt.ylabel('Accuracy')\n",
        "plt.ylim([0, 0.9])\n",
        "plt.legend(loc='lower right')\n",
        "plt.title(\"M5, Optimizer: Adam, BS = 10\",size=20)\n",
        "\n",
        "###################### 2nd ROW ####################################\n",
        "\n",
        "plt.subplot(2, 5, 6)\n",
        "plt.plot(history_1_2.history['accuracy'], label='accuracy')\n",
        "plt.plot(history_1_2.history['val_accuracy'], label = 'val_accuracy')\n",
        "plt.xlabel('Epoch')\n",
        "plt.ylabel('Accuracy')\n",
        "plt.ylim([0.1, 0.5])\n",
        "plt.legend(loc='lower right')\n",
        "plt.title(\"M1, Optimizer: Adamax, BS = 100\",size=20)\n",
        "\n",
        "plt.subplot(2, 5, 7)\n",
        "plt.plot(history_2_2.history['accuracy'], label='accuracy')\n",
        "plt.plot(history_2_2.history['val_accuracy'], label = 'val_accuracy')\n",
        "plt.xlabel('Epoch')\n",
        "plt.ylabel('Accuracy')\n",
        "plt.ylim([0.1, 0.6])\n",
        "plt.legend(loc='lower right')\n",
        "plt.title(\"M2, Optimizer: Adamax, BS = 100\",size=20)\n",
        "\n",
        "plt.subplot(2, 5, 8)\n",
        "plt.plot(history_3_2.history['accuracy'], label='accuracy')\n",
        "plt.plot(history_3_2.history['val_accuracy'], label = 'val_accuracy')\n",
        "plt.xlabel('Epoch')\n",
        "plt.ylabel('Accuracy')\n",
        "plt.ylim([0, 1])\n",
        "plt.legend(loc='lower right')\n",
        "plt.title(\"M3, Optimizer: SGD, BS = 10\",size=20)\n",
        "\n",
        "plt.subplot(2, 5, 9)\n",
        "plt.plot(history_4_2.history['accuracy'], label='accuracy')\n",
        "plt.plot(history_4_2.history['val_accuracy'], label = 'val_accuracy')\n",
        "plt.xlabel('Epoch')\n",
        "plt.ylabel('Accuracy')\n",
        "plt.ylim([0, 0.7])\n",
        "plt.legend(loc='lower right')\n",
        "plt.title(\"M4, Optimizer: Adam, BS = 100, from_logits=F\",size=20)\n",
        "\n",
        "plt.subplot(2, 5, 10)\n",
        "plt.plot(history_5_2.history['accuracy'], label='accuracy')\n",
        "plt.plot(history_5_2.history['val_accuracy'], label = 'val_accuracy')\n",
        "plt.xlabel('Epoch')\n",
        "plt.ylabel('Accuracy')\n",
        "plt.ylim([0,0.9])\n",
        "plt.legend(loc='lower right')\n",
        "plt.title(\"M5, Optimizer: Adam, BS = 10\",size=20)\n",
        "\n",
        "plt.subplots_adjust(left=0, bottom=0, right=None, top= None, wspace=0.2, hspace=0.5)\n",
        "\n"
      ],
      "execution_count": null,
      "outputs": [
        {
          "output_type": "display_data",
          "data": {
            "image/png": "[encoded data removed]",
            "text/plain": [
              "<Figure size 2160x720 with 10 Axes>"
            ]
          },
          "metadata": {
            "tags": [],
            "needs_background": "light"
          }
        }
      ]
    },
    {
      "cell_type": "markdown",
      "metadata": {
        "id": "dNwaflvWY8u8",
        "colab_type": "text"
      },
      "source": [
        "---\n",
        "2.2. Για κάθε ένα από τα μοντέλα με την καλύτερη ακρίβεια(συνολικά 5), απεικονίστε σε κοινό διάγραμμα την ακρίβεια εκπαίδευσης και την ακρίβεια επικύρωσης στο σύνολο των εποχών.\n"
      ]
    },
    {
      "cell_type": "code",
      "metadata": {
        "id": "gofER37H6Pnm",
        "colab_type": "code",
        "colab": {}
      },
      "source": [
        "best_for_m1 = history_1_1\n",
        "best_for_m2 = history_2_1\n",
        "best_for_m3 = history_3_2\n",
        "best_for_m4 = history_4_2\n",
        "best_for_m5 = history_5_2"
      ],
      "execution_count": null,
      "outputs": []
    },
    {
      "cell_type": "markdown",
      "metadata": {
        "id": "rk8bj4ZMXssy",
        "colab_type": "text"
      },
      "source": [
        "Στο παράκάτω διάγραμμα, με **διακκεκομένες** γραμμές απεικονίζουμε το *train_accuracy*, ενώ με **συνεχείς** το val_accuracy. Για κάθε μοντέλο έχουμε και διαφορετικό χρώμα.\n"
      ]
    },
    {
      "cell_type": "code",
      "metadata": {
        "id": "Ja1KnMvO54P9",
        "colab_type": "code",
        "colab": {
          "base_uri": "https://localhost:8080/",
          "height": 458
        },
        "outputId": "a71880ac-a785-427a-94e9-68ab160c4ca3"
      },
      "source": [
        "plt.figure(figsize=(30, 10))\n",
        "\n",
        "plt.plot(best_for_m1.history['accuracy'],'--',color = \"red\",label='M1 accuracy')\n",
        "plt.plot(best_for_m2.history['accuracy'],'--',color = \"yellow\", label='M4 accuracy')\n",
        "plt.plot(best_for_m3.history['accuracy'],'--',color = \"blue\",  label='M3 accuracy')\n",
        "plt.plot(best_for_m4.history['accuracy'],'--',color = \"black\", label='M4 accuracy')\n",
        "plt.plot(best_for_m5.history['accuracy'],'--',color = \"pink\",  label='M5 accuracy')\n",
        "\n",
        "\n",
        "plt.plot(best_for_m1.history['val_accuracy'],color = \"red\", label = 'M1 val_accuracy')\n",
        "plt.plot(best_for_m2.history['val_accuracy'],color = \"blue\", label = 'M2 val_accuracy')\n",
        "plt.plot(best_for_m3.history['val_accuracy'],color = \"yellow\", label = 'M3 val_accuracy')\n",
        "plt.plot(best_for_m4.history['val_accuracy'],color = \"black\", label = 'M4 val_accuracy')\n",
        "plt.plot(best_for_m5.history['val_accuracy'],color = \"pink\", label = 'M5 val_accuracy')\n",
        "\n",
        "\n",
        "plt.xlabel('Epoch')\n",
        "plt.ylabel('Accuracy')\n",
        "plt.ylim([0.1, 0.7])\n",
        "plt.legend(loc='lower right')\n",
        "plt.title(\"Best Combinations for 5 Models\",size=20)"
      ],
      "execution_count": null,
      "outputs": [
        {
          "output_type": "execute_result",
          "data": {
            "text/plain": [
              "Text(0.5, 1.0, 'Best Combinations for 5 Models')"
            ]
          },
          "metadata": {
            "tags": []
          },
          "execution_count": 43
        },
        {
          "output_type": "display_data",
          "data": {
            "image/png": "[encoded data removed]",
            "text/plain": [
              "<Figure size 2160x720 with 1 Axes>"
            ]
          },
          "metadata": {
            "tags": [],
            "needs_background": "light"
          }
        }
      ]
    },
    {
      "cell_type": "markdown",
      "metadata": {
        "id": "iAgowxR8oJH7",
        "colab_type": "text"
      },
      "source": [
        " ---\n",
        " 2.3. Αξιολογήστε, αναλυτικά, τα αποτελέσματά σας ως προς τα εξής:\n",
        "\n",
        " - Επίδραση του πλήθους των δεδομένων/κλάσεων στην απόδοση του μοντέλου\n",
        " - Επίδραση του αλγόριθμου βελτιστοποίησης (optimizer)\n",
        " - Επίδραση του μεγέθους δέσμης (batch size)\n",
        "\n",
        "---\n",
        " \n"
      ]
    },
    {
      "cell_type": "markdown",
      "metadata": {
        "id": "_A8baccQTr_g",
        "colab_type": "text"
      },
      "source": [
        "\n",
        "\n",
        "1.   Πλήθος Δεδομένων - Κλάσεων: <br> <br> \n",
        "Σχετικά με το **πλήθος των δεδομένων** εύκολα παρατηρεί κανείς ότι, όσο πιο πολλά δεδομένα έχουμε στη διάθεσή μας, τόσο μεγαλύτερη ακρίβεια εξασφαλίζουμε. Στην περίπτωση που είχαμε λίγα δεδομένα, το νευρωνικό πετύχαινε αρκετά μεγάλο train_accuracy, αλλά δεν μπορούσε να γενικεύσει( γεγονός που αποτυπώθηκε στο χαμηλό val_acc). \n",
        "<br> <br> \n",
        "Σχετικά με το **πλήθος των κλάσεων**, διαπιστώσαμε ότι όσο μεγαλώναμε τον αριθμό των κλάσεων η ακρίβεια μειωνόταν κατά κάποιο τρόπο. Αυτό συνέβαινε μιας και κάποιες \"νέες\" κλάσεις που προσθέταμε, είχαν εικόνες με κοινά χαρακτηριστικά με κάποιες άλλες κλάσσεις( π.χ στις 20 κλάσεις είχαμε μόνο λιοντάρια, ενώ στις 80 προστέθηκαν και κλάσεις με λεοπαρδάλεις η τίγρεις). Έτσι αυξήθηκε ο αριθμός των σφαλμάτων \n",
        "<br> <br>  \n",
        "2.   Optimizers : <br> <br> \n",
        "Όσον αφορά τους optimizers, επιλέξαμε να μελέτήσουμε τους Adam,Adamax,SGD. Θα τους συγκρίνουμε χρησιμοποιώντας δύο μετρικές.1) Ταχύτητα Εκπαίδευσης, 2) Ικανότητα Γενίκευσης. Οπως παρατηρεί κανείς απο την πρώτη στήλη των subplots, ο **Adam** πετυχαίνει σχεδίον το ίδιο val_accuracy με τον **Adamax**. H μόνη διαφορά που μπορούμε να παρατηρήσουμε είναι ότι στον Adamax η γραφική δεν παρουσιάζει απότομες αλλαγές και είναι πιο smooth. Aπο την άλλη, παρατηρώντας την τρίτη στήλη των γραφικών, διαπιστώνουμε ότι ο **Adam** πετυχαίνει σχεδόν 100% train accuracy(για μικρό Batch size) και το ίδιο val_accuraccy με τον Adam. Βέβαια όμως ο Adam πέτυχε τα αποτελέσματα αυτά σε λιγότερο χρόνο συγκριτικά με SGD\n",
        "<br> <br> \n",
        "3.   Επίδραση Batch Size:<br> <br>\n",
        " Οφείλουμε να παραδεχτούμε ότι όσο μικρότερο είναι το batch_size, τόσο μικρότερες είναι και οι απαιτήσεις σε μνήμη. Ταυτόχρονα με **μικρά** batch_sizes, πετυχαίνουμε υψηλές ταχύτητες. Απο την άλλη, **μεγάλα** batches, εγγυώνται και μεγαλύτερο accuracy, καθώς σε ένα iteration το νευρωνικό μας τροφοδοτείται με περισσόότερα δεδομένα. Kάτι τέτοιο φαίνεται και απο τη 2η Στήλη των γραφικών, όπου πειραματιζόμαστε με διαφορετικό batch size και τον ίδιο optimizer \n",
        "\n"
      ]
    },
    {
      "cell_type": "markdown",
      "metadata": {
        "id": "0IOQHuuYZHfY",
        "colab_type": "text"
      },
      "source": [
        "## Βήμα 3: Aξιολόγηση Ακρίβειας για test-set"
      ]
    },
    {
      "cell_type": "markdown",
      "metadata": {
        "id": "stXb0IB4ZfIK",
        "colab_type": "text"
      },
      "source": [
        "---\n",
        "Αξιολογήστε την ακρίβεια για το test set σας."
      ]
    },
    {
      "cell_type": "code",
      "metadata": {
        "id": "JIKLa6jCEXDH",
        "colab_type": "code",
        "colab": {
          "base_uri": "https://localhost:8080/",
          "height": 104
        },
        "outputId": "f365e43f-e2a5-447e-ec70-61f4e54be521"
      },
      "source": [
        "test_loss1, test_acc1 = model_1.evaluate(x_test,  y_test, verbose=2)\n",
        "test_loss2, test_acc2 = model_2.evaluate(x_test,  y_test, verbose=2)\n",
        "test_loss3, test_acc3 = model_3.evaluate(x_test,  y_test, verbose=2)\n",
        "test_loss4, test_acc4 = model_4.evaluate(x_test,  y_test, verbose=2)\n",
        "test_loss5, test_acc5 = model_5.evaluate(x_test,  y_test, verbose=2)\n",
        "\n",
        "#print('\\nTest accuracy:', test_acc1)\n",
        "#print('\\nTest accuracy:', test_acc2)\n",
        "#print('\\nTest accuracy:', test_acc3)\n",
        "#print('\\nTest accuracy:', test_acc4)\n",
        "#print('\\nTest accuracy:', test_acc5)\n",
        "\n"
      ],
      "execution_count": null,
      "outputs": [
        {
          "output_type": "stream",
          "text": [
            "63/63 - 0s - loss: 2.3293 - accuracy: 0.2955\n",
            "63/63 - 0s - loss: 2.2442 - accuracy: 0.3270\n",
            "63/63 - 1s - loss: 1.8689 - accuracy: 0.4395\n",
            "63/63 - 1s - loss: 1.8701 - accuracy: 0.4325\n",
            "63/63 - 1s - loss: 1.8415 - accuracy: 0.4495\n"
          ],
          "name": "stdout"
        }
      ]
    },
    {
      "cell_type": "markdown",
      "metadata": {
        "id": "7fiiOzUOaDaU",
        "colab_type": "text"
      },
      "source": [
        "**ΠΑΡΑΤΗΡΗΣΕΙΣ:** Παρατηρούμε γενικά ότι το μικρότερο test_acc σημειώνεται για το Μοντέλο 1, ενώ όσο το Μοντέλο γίνεται πιο σύνθετο, (M2,M3..) το test_acc αυξάνεται. Ωστόσο το γεγονός ότι έχουμε σχετικά μικρό test_acc  είναι σημάδι overfitt (Το δίκτυο μας εκπαιδεύτηκε καλά στα train δεδομένα, αλλά δεν κατάφερε να γενικεύσει). Θα δούμε πως μπορούμε να μειώσουμε overfitt"
      ]
    },
    {
      "cell_type": "markdown",
      "metadata": {
        "id": "Ra1EkG5RUOtF",
        "colab_type": "text"
      },
      "source": [
        "# Ερώτημα 2"
      ]
    },
    {
      "cell_type": "markdown",
      "metadata": {
        "id": "v8rhgSGOV5pm",
        "colab_type": "text"
      },
      "source": [
        "**Προσοχή** \n",
        "\n",
        "Για τα επόμενα ερωτήματα θα κρατήσετε το μοντέλο που αντιστοιχεί στον καλύτερο συνδυασμό ( optimizer, loss, metrics και epoch) από τα μοντέλα που εκπαιδεύσατε (και για τα 5 μοντέλα - όπως στο Ερώτημα 1, βήμα 2.2).\n",
        "\n",
        "\n",
        "### Βήμα 1: Έλεγχος υπερεκπαίδευσης\n",
        "\n",
        "  1.1. Προτείνετε τεχνικές που θα χρησιμοποιήσετε για να αντιμετωπίσετε το πρόβλημα της υπερεκπαίδεσης και υλοποιήστε τις τεχνικές που προτείνετε για την εκπαίδευση του μοντέλου ώστε αυτό να γενικεύει καλύτερα.\n",
        "\n",
        "Δοκιμάστε διάφορους τρόπους για τον έλεγχο της υπερεκπαίδευσης (overfitting), όπως:\n",
        "\n",
        "- Πρόωρος τερματισμός (early stopping). Μια μέθοδος που τερματίζει την εκπαίδευση αν δεν υπάρχει βελτίωση ως προς τη μετρική απόδοσης που παρακολουθούμε. [tf.keras.callbacks.EarlyStopping](https://www.tensorflow.org/api_docs/python/tf/keras/callbacks/EarlyStoppinghttps://)\n",
        "\n",
        "- Dropout. Μια άλλη τεχνική για τη μείωση της υπερεκπαίδευσης είναι το Dropout. Είναι ένα είδος ομαλοποίησης (regularization) που επιβάλλει στα βάρη του δικτύου να παίρνουν μόνο μικρές τιμές. Εάν εφαρμόσουε dropout σε ένα επίπεδο του δικτύου, τότε ένα ποσοστό των βαρών του γίνεται τυχαία μηδενικό κατά την εκπαίδευση. [Dropout](https://www.tensorflow.org/tutorials/images/classification#dropout)\n",
        "\n",
        "- Επαύξηση δεδομένων. Η υπερεκπαίδευση συνήθως συμβαίνει όταν έχουμε λίγα ή/και πολύ όμοια δεδομένα εκπαίδευσης. Ένας τρόπος να διορθωθεί αυτό το πρόβλημα είναι να αυξήσουμε τα δεδομένα (data augmentation). Το data augmentation δημιουργεί νέα δεδομένα εκπαίδευσης με βάση τα υπάρχοντα εφαρμόζοντας τυχαίους μετασχηματισμούς ώστε να προκύπτουν αληθοφανείς εικόνες. [Data augmentation](https://www.tensorflow.org/tutorials/images/classification#data_augmentation), [ImageDataGenerator](https://www.tensorflow.org/api_docs/python/tf/keras/preprocessing/image/ImageDataGenerator#class_imagedatagenerator)\n",
        "\n"
      ]
    },
    {
      "cell_type": "markdown",
      "metadata": {
        "id": "udd7UmO4AKtb",
        "colab_type": "text"
      },
      "source": [
        "#### Early Stopping"
      ]
    },
    {
      "cell_type": "markdown",
      "metadata": {
        "id": "bamqMX54VDR9",
        "colab_type": "text"
      },
      "source": [
        "Για να έχει νόημα η τεχνική \"Early Stopping\", διπλασιάζουμε τον αριθμό των εποχών, και βλέπουμε(εκτυπώνουμε) στις πόσες σταμάτησε το training.Επίσης αρχικοποιούμε ξανά το δίκτυο μας ορίζοντάς το κατά τα γνωστα."
      ]
    },
    {
      "cell_type": "code",
      "metadata": {
        "id": "30mOzaPIcNxp",
        "colab_type": "code",
        "colab": {}
      },
      "source": [
        "#Early Stoping \n",
        "epochs = 10\n",
        "increased_epochs = epochs*2\n",
        "\n",
        "tf.keras.callbacks.EarlyStopping(\n",
        "    monitor='val_loss', min_delta=0, patience=0, verbose=0, mode='auto',\n",
        "    baseline=None, restore_best_weights=False\n",
        ")\n",
        "callback = tf.keras.callbacks.EarlyStopping(monitor='loss', patience=3)"
      ],
      "execution_count": null,
      "outputs": []
    },
    {
      "cell_type": "markdown",
      "metadata": {
        "id": "IzSBrKgjiYP8",
        "colab_type": "text"
      },
      "source": [
        "**Μοντέλο 1 (Kαλύτερος Συνδυασμός)**"
      ]
    },
    {
      "cell_type": "code",
      "metadata": {
        "colab_type": "code",
        "id": "uA1bxCV1jxwN",
        "colab": {}
      },
      "source": [
        "#Model_1: FC(200), SOFTMAX\n",
        "model_1 = models.Sequential()\n",
        "model_1.add(layers.Flatten(input_shape=(32,32,3)))\n",
        "model_1.add(layers.Dense(200, activation='relu'))\n",
        "model_1.add(layers.Dense(20, activation='softmax'))\n",
        "\n",
        "#Compile\n",
        "model_1.compile(optimizer='adam',\n",
        "              loss=tf.keras.losses.SparseCategoricalCrossentropy(from_logits=False),\n",
        "              metrics=['accuracy'])"
      ],
      "execution_count": null,
      "outputs": []
    },
    {
      "cell_type": "code",
      "metadata": {
        "id": "y-gvMSnQc33L",
        "colab_type": "code",
        "colab": {
          "base_uri": "https://localhost:8080/",
          "height": 729
        },
        "outputId": "d7d3108f-e873-446d-f357-e2f0860a3169"
      },
      "source": [
        "#Μοντέλο 1\n",
        "history_m1 = model_1.fit(x_train, y_train, epochs=increased_epochs, \n",
        "                    validation_data=(x_val, y_val),batch_size = 100,callbacks=[callback])\n",
        "\n",
        "print(len(history_m1.history['loss']),\"epochs are run out of\", increased_epochs)"
      ],
      "execution_count": null,
      "outputs": [
        {
          "output_type": "stream",
          "text": [
            "Epoch 1/20\n",
            "85/85 [==============================] - 1s 11ms/step - loss: 2.8369 - accuracy: 0.1464 - val_loss: 2.5797 - val_accuracy: 0.2040\n",
            "Epoch 2/20\n",
            "85/85 [==============================] - 1s 11ms/step - loss: 2.4941 - accuracy: 0.2358 - val_loss: 2.4744 - val_accuracy: 0.2327\n",
            "Epoch 3/20\n",
            "85/85 [==============================] - 1s 10ms/step - loss: 2.4300 - accuracy: 0.2508 - val_loss: 2.4559 - val_accuracy: 0.2427\n",
            "Epoch 4/20\n",
            "85/85 [==============================] - 1s 10ms/step - loss: 2.3464 - accuracy: 0.2874 - val_loss: 2.3767 - val_accuracy: 0.2613\n",
            "Epoch 5/20\n",
            "85/85 [==============================] - 1s 10ms/step - loss: 2.2901 - accuracy: 0.3006 - val_loss: 2.3377 - val_accuracy: 0.2773\n",
            "Epoch 6/20\n",
            "85/85 [==============================] - 1s 10ms/step - loss: 2.2697 - accuracy: 0.3081 - val_loss: 2.3324 - val_accuracy: 0.2827\n",
            "Epoch 7/20\n",
            "85/85 [==============================] - 1s 11ms/step - loss: 2.2356 - accuracy: 0.3234 - val_loss: 2.3160 - val_accuracy: 0.2907\n",
            "Epoch 8/20\n",
            "85/85 [==============================] - 1s 10ms/step - loss: 2.1950 - accuracy: 0.3375 - val_loss: 2.2854 - val_accuracy: 0.3060\n",
            "Epoch 9/20\n",
            "85/85 [==============================] - 1s 10ms/step - loss: 2.1827 - accuracy: 0.3394 - val_loss: 2.2733 - val_accuracy: 0.2980\n",
            "Epoch 10/20\n",
            "85/85 [==============================] - 1s 10ms/step - loss: 2.1491 - accuracy: 0.3462 - val_loss: 2.2550 - val_accuracy: 0.3080\n",
            "Epoch 11/20\n",
            "85/85 [==============================] - 1s 10ms/step - loss: 2.1256 - accuracy: 0.3614 - val_loss: 2.2713 - val_accuracy: 0.3147\n",
            "Epoch 12/20\n",
            "85/85 [==============================] - 1s 10ms/step - loss: 2.0972 - accuracy: 0.3665 - val_loss: 2.2654 - val_accuracy: 0.3107\n",
            "Epoch 13/20\n",
            "85/85 [==============================] - 1s 10ms/step - loss: 2.0967 - accuracy: 0.3692 - val_loss: 2.2615 - val_accuracy: 0.3087\n",
            "Epoch 14/20\n",
            "85/85 [==============================] - 1s 11ms/step - loss: 2.0726 - accuracy: 0.3769 - val_loss: 2.2563 - val_accuracy: 0.3107\n",
            "Epoch 15/20\n",
            "85/85 [==============================] - 1s 11ms/step - loss: 2.0599 - accuracy: 0.3746 - val_loss: 2.2557 - val_accuracy: 0.3133\n",
            "Epoch 16/20\n",
            "85/85 [==============================] - 1s 12ms/step - loss: 2.0290 - accuracy: 0.3808 - val_loss: 2.2620 - val_accuracy: 0.3153\n",
            "Epoch 17/20\n",
            "85/85 [==============================] - 1s 12ms/step - loss: 2.0370 - accuracy: 0.3807 - val_loss: 2.2595 - val_accuracy: 0.3120\n",
            "Epoch 18/20\n",
            "85/85 [==============================] - 1s 10ms/step - loss: 2.0224 - accuracy: 0.3846 - val_loss: 2.2242 - val_accuracy: 0.3153\n",
            "Epoch 19/20\n",
            "85/85 [==============================] - 1s 11ms/step - loss: 2.0172 - accuracy: 0.3859 - val_loss: 2.2268 - val_accuracy: 0.3227\n",
            "Epoch 20/20\n",
            "85/85 [==============================] - 1s 12ms/step - loss: 1.9913 - accuracy: 0.3926 - val_loss: 2.1974 - val_accuracy: 0.3307\n",
            "20 epochs are run out of 20\n"
          ],
          "name": "stdout"
        }
      ]
    },
    {
      "cell_type": "markdown",
      "metadata": {
        "id": "ftSwDglVeF83",
        "colab_type": "text"
      },
      "source": [
        "**Μοντέλο 2 (Kαλύτερος Συνδυασμός)**"
      ]
    },
    {
      "cell_type": "code",
      "metadata": {
        "colab_type": "code",
        "id": "r1R170RdkIPY",
        "colab": {}
      },
      "source": [
        "#Model_2: FC(512), RELU, FC(200), SOFTMAX\n",
        "model_2 = models.Sequential()\n",
        "model_2.add(layers.Flatten(input_shape=(32,32,3)))\n",
        "model_2.add(layers.Dense(512, activation='relu'))\n",
        "model_2.add(layers.Dense(200, activation='relu'))\n",
        "model_2.add(layers.Dense(20, activation='softmax'))\n",
        "\n",
        "#Compile\n",
        "model_2.compile(optimizer='adamax',\n",
        "              loss=tf.keras.losses.SparseCategoricalCrossentropy(from_logits=False),\n",
        "              metrics=['accuracy'])"
      ],
      "execution_count": null,
      "outputs": []
    },
    {
      "cell_type": "code",
      "metadata": {
        "id": "43ioLbUYedTS",
        "colab_type": "code",
        "colab": {
          "base_uri": "https://localhost:8080/",
          "height": 729
        },
        "outputId": "5e7dc4eb-9c96-45d4-eb74-2ef7665a70e4"
      },
      "source": [
        "#Μοντέλο 2\n",
        "history_m2 = model_2.fit(x_train, y_train, epochs=increased_epochs, \n",
        "                    validation_data=(x_val, y_val),batch_size = 100,callbacks=[callback])\n",
        "\n",
        "print(len(history_m2.history['loss']),\"epochs are run out of\", increased_epochs)"
      ],
      "execution_count": null,
      "outputs": [
        {
          "output_type": "stream",
          "text": [
            "Epoch 1/20\n",
            "85/85 [==============================] - 2s 27ms/step - loss: 2.7400 - accuracy: 0.1682 - val_loss: 2.6294 - val_accuracy: 0.1973\n",
            "Epoch 2/20\n",
            "85/85 [==============================] - 2s 23ms/step - loss: 2.4768 - accuracy: 0.2433 - val_loss: 2.4741 - val_accuracy: 0.2460\n",
            "Epoch 3/20\n",
            "85/85 [==============================] - 2s 23ms/step - loss: 2.3712 - accuracy: 0.2768 - val_loss: 2.3950 - val_accuracy: 0.2880\n",
            "Epoch 4/20\n",
            "85/85 [==============================] - 2s 22ms/step - loss: 2.2940 - accuracy: 0.3020 - val_loss: 2.3322 - val_accuracy: 0.2967\n",
            "Epoch 5/20\n",
            "85/85 [==============================] - 2s 23ms/step - loss: 2.2501 - accuracy: 0.3201 - val_loss: 2.3062 - val_accuracy: 0.2913\n",
            "Epoch 6/20\n",
            "85/85 [==============================] - 2s 22ms/step - loss: 2.1992 - accuracy: 0.3309 - val_loss: 2.2815 - val_accuracy: 0.3100\n",
            "Epoch 7/20\n",
            "85/85 [==============================] - 2s 22ms/step - loss: 2.1564 - accuracy: 0.3521 - val_loss: 2.2586 - val_accuracy: 0.3133\n",
            "Epoch 8/20\n",
            "85/85 [==============================] - 2s 23ms/step - loss: 2.1120 - accuracy: 0.3634 - val_loss: 2.2025 - val_accuracy: 0.3340\n",
            "Epoch 9/20\n",
            "85/85 [==============================] - 2s 24ms/step - loss: 2.0846 - accuracy: 0.3652 - val_loss: 2.2135 - val_accuracy: 0.3220\n",
            "Epoch 10/20\n",
            "85/85 [==============================] - 2s 22ms/step - loss: 2.0592 - accuracy: 0.3745 - val_loss: 2.2235 - val_accuracy: 0.3160\n",
            "Epoch 11/20\n",
            "85/85 [==============================] - 2s 22ms/step - loss: 2.0168 - accuracy: 0.3834 - val_loss: 2.1921 - val_accuracy: 0.3393\n",
            "Epoch 12/20\n",
            "85/85 [==============================] - 2s 22ms/step - loss: 2.0044 - accuracy: 0.3907 - val_loss: 2.1893 - val_accuracy: 0.3320\n",
            "Epoch 13/20\n",
            "85/85 [==============================] - 2s 22ms/step - loss: 1.9697 - accuracy: 0.3995 - val_loss: 2.1844 - val_accuracy: 0.3313\n",
            "Epoch 14/20\n",
            "85/85 [==============================] - 2s 22ms/step - loss: 1.9421 - accuracy: 0.4045 - val_loss: 2.1483 - val_accuracy: 0.3467\n",
            "Epoch 15/20\n",
            "85/85 [==============================] - 2s 22ms/step - loss: 1.9159 - accuracy: 0.4188 - val_loss: 2.1482 - val_accuracy: 0.3507\n",
            "Epoch 16/20\n",
            "85/85 [==============================] - 2s 23ms/step - loss: 1.8904 - accuracy: 0.4256 - val_loss: 2.1794 - val_accuracy: 0.3427\n",
            "Epoch 17/20\n",
            "85/85 [==============================] - 2s 23ms/step - loss: 1.8551 - accuracy: 0.4401 - val_loss: 2.1231 - val_accuracy: 0.3593\n",
            "Epoch 18/20\n",
            "85/85 [==============================] - 2s 22ms/step - loss: 1.8529 - accuracy: 0.4400 - val_loss: 2.1113 - val_accuracy: 0.3553\n",
            "Epoch 19/20\n",
            "85/85 [==============================] - 2s 22ms/step - loss: 1.7994 - accuracy: 0.4568 - val_loss: 2.1300 - val_accuracy: 0.3453\n",
            "Epoch 20/20\n",
            "85/85 [==============================] - 2s 22ms/step - loss: 1.7996 - accuracy: 0.4553 - val_loss: 2.1498 - val_accuracy: 0.3593\n",
            "20 epochs are run out of 20\n"
          ],
          "name": "stdout"
        }
      ]
    },
    {
      "cell_type": "markdown",
      "metadata": {
        "id": "TP5EGqjHepu6",
        "colab_type": "text"
      },
      "source": [
        "**Μοντέλο 3 (Kαλύτερος Συνδυασμός)**"
      ]
    },
    {
      "cell_type": "code",
      "metadata": {
        "colab_type": "code",
        "id": "vi8Qehj1khjZ",
        "colab": {}
      },
      "source": [
        "#Model_3: CONV(32, 3), RELU, POOL(2), CONV(32,3), RELU, POOL(2), FC(512, RELU, FC(200),SOFTMAX\n",
        "model_3 = models.Sequential()\n",
        "model_3.add(layers.Conv2D(32, (3, 3), activation='relu', input_shape=(32, 32, 3)))\n",
        "model_3.add(layers.MaxPooling2D((2, 2)))\n",
        "model_3.add(layers.Conv2D(32, (3, 3), activation='relu'))\n",
        "model_3.add(layers.MaxPooling2D((2, 2)))\n",
        "\n",
        "model_3.add(layers.Flatten())\n",
        "\n",
        "model_3.add(layers.Dense(512, activation='relu'))\n",
        "model_3.add(layers.Dense(200, activation='relu'))\n",
        "model_3.add(layers.Dense(20, activation='softmax'))\n",
        "\n",
        "#Compile\n",
        "\n",
        "model_3.compile(optimizer='sgd',\n",
        "              loss=tf.keras.losses.SparseCategoricalCrossentropy(from_logits=False),\n",
        "              metrics=['accuracy'])\n"
      ],
      "execution_count": null,
      "outputs": []
    },
    {
      "cell_type": "code",
      "metadata": {
        "id": "JcqrWOTxeoE8",
        "colab_type": "code",
        "colab": {
          "base_uri": "https://localhost:8080/",
          "height": 729
        },
        "outputId": "25feb0fd-4f66-41ae-8c66-38e3a1fabc34"
      },
      "source": [
        "#Μοντέλο 3\n",
        "history_m3 = model_3.fit(x_train, y_train, epochs=increased_epochs, \n",
        "                    validation_data=(x_val, y_val),batch_size = 100,callbacks=[callback])\n",
        "\n",
        "print(len(history_m3.history['loss']),\"epochs are run out of\", increased_epochs)"
      ],
      "execution_count": null,
      "outputs": [
        {
          "output_type": "stream",
          "text": [
            "Epoch 1/20\n",
            "85/85 [==============================] - 9s 102ms/step - loss: 2.9894 - accuracy: 0.0701 - val_loss: 2.9842 - val_accuracy: 0.0940\n",
            "Epoch 2/20\n",
            "85/85 [==============================] - 8s 98ms/step - loss: 2.9709 - accuracy: 0.1041 - val_loss: 2.9652 - val_accuracy: 0.0787\n",
            "Epoch 3/20\n",
            "85/85 [==============================] - 8s 98ms/step - loss: 2.9427 - accuracy: 0.0991 - val_loss: 2.9290 - val_accuracy: 0.1167\n",
            "Epoch 4/20\n",
            "85/85 [==============================] - 8s 98ms/step - loss: 2.8830 - accuracy: 0.1331 - val_loss: 2.8492 - val_accuracy: 0.1380\n",
            "Epoch 5/20\n",
            "85/85 [==============================] - 8s 98ms/step - loss: 2.7636 - accuracy: 0.1689 - val_loss: 2.7117 - val_accuracy: 0.2047\n",
            "Epoch 6/20\n",
            "85/85 [==============================] - 12s 138ms/step - loss: 2.6315 - accuracy: 0.1994 - val_loss: 2.6143 - val_accuracy: 0.2107\n",
            "Epoch 7/20\n",
            "85/85 [==============================] - 8s 100ms/step - loss: 2.5664 - accuracy: 0.2136 - val_loss: 2.5600 - val_accuracy: 0.2220\n",
            "Epoch 8/20\n",
            "85/85 [==============================] - 9s 100ms/step - loss: 2.5182 - accuracy: 0.2213 - val_loss: 2.5670 - val_accuracy: 0.2140\n",
            "Epoch 9/20\n",
            "85/85 [==============================] - 9s 101ms/step - loss: 2.4946 - accuracy: 0.2312 - val_loss: 2.5414 - val_accuracy: 0.2247\n",
            "Epoch 10/20\n",
            "85/85 [==============================] - 9s 101ms/step - loss: 2.4569 - accuracy: 0.2445 - val_loss: 2.5186 - val_accuracy: 0.2527\n",
            "Epoch 11/20\n",
            "85/85 [==============================] - 9s 101ms/step - loss: 2.4305 - accuracy: 0.2514 - val_loss: 2.4819 - val_accuracy: 0.2520\n",
            "Epoch 12/20\n",
            "85/85 [==============================] - 9s 101ms/step - loss: 2.4058 - accuracy: 0.2662 - val_loss: 2.4371 - val_accuracy: 0.2540\n",
            "Epoch 13/20\n",
            "85/85 [==============================] - 9s 102ms/step - loss: 2.3800 - accuracy: 0.2773 - val_loss: 2.4163 - val_accuracy: 0.2767\n",
            "Epoch 14/20\n",
            "85/85 [==============================] - 9s 100ms/step - loss: 2.3507 - accuracy: 0.2876 - val_loss: 2.3964 - val_accuracy: 0.2860\n",
            "Epoch 15/20\n",
            "85/85 [==============================] - 8s 100ms/step - loss: 2.3258 - accuracy: 0.2918 - val_loss: 2.4232 - val_accuracy: 0.2553\n",
            "Epoch 16/20\n",
            "85/85 [==============================] - 9s 101ms/step - loss: 2.2997 - accuracy: 0.2998 - val_loss: 2.3486 - val_accuracy: 0.2880\n",
            "Epoch 17/20\n",
            "85/85 [==============================] - 9s 101ms/step - loss: 2.2721 - accuracy: 0.3184 - val_loss: 2.3173 - val_accuracy: 0.3007\n",
            "Epoch 18/20\n",
            "85/85 [==============================] - 8s 99ms/step - loss: 2.2448 - accuracy: 0.3202 - val_loss: 2.3160 - val_accuracy: 0.2933\n",
            "Epoch 19/20\n",
            "85/85 [==============================] - 8s 99ms/step - loss: 2.2229 - accuracy: 0.3291 - val_loss: 2.3927 - val_accuracy: 0.2700\n",
            "Epoch 20/20\n",
            "85/85 [==============================] - 9s 100ms/step - loss: 2.2027 - accuracy: 0.3316 - val_loss: 2.2601 - val_accuracy: 0.3173\n",
            "10 epochs are run out of 20\n"
          ],
          "name": "stdout"
        }
      ]
    },
    {
      "cell_type": "markdown",
      "metadata": {
        "id": "bNWGhUxpetsg",
        "colab_type": "text"
      },
      "source": [
        "**Μοντέλο 4 (Kαλύτερος Συνδυασμός)**"
      ]
    },
    {
      "cell_type": "code",
      "metadata": {
        "colab_type": "code",
        "id": "hnCRK_rTk3Lw",
        "colab": {}
      },
      "source": [
        "#Model_4: CONV(16, 5), RELU, POOL(2), CONV(16,3), RELU, POOL(2), CONV(32, 3), RELU, FC(200), SOFTMAX\n",
        "model_4 = models.Sequential()\n",
        "model_4.add(layers.Conv2D(32, (3, 3), activation='relu', input_shape=(32, 32, 3)))\n",
        "model_4.add(layers.MaxPooling2D((2, 2)))\n",
        "model_4.add(layers.Conv2D(16, (3, 3), activation='relu'))\n",
        "model_4.add(layers.MaxPooling2D((2, 2)))\n",
        "\n",
        "model_4.add(layers.Conv2D(32, (3, 3), activation='relu'))\n",
        "model_4.add(layers.Flatten())\n",
        "model_4.add(layers.Dense(200, activation='relu'))\n",
        "model_4.add(layers.Dense(20, activation='softmax'))\n",
        "\n",
        "#Compile\n",
        "\n",
        "model_4.compile(optimizer='adam',\n",
        "              loss=tf.keras.losses.SparseCategoricalCrossentropy(from_logits=False),\n",
        "              metrics=['accuracy'])"
      ],
      "execution_count": null,
      "outputs": []
    },
    {
      "cell_type": "code",
      "metadata": {
        "id": "K1a7NprPeovQ",
        "colab_type": "code",
        "colab": {
          "base_uri": "https://localhost:8080/",
          "height": 729
        },
        "outputId": "6aeffebb-3121-4673-8218-e65baea1983e"
      },
      "source": [
        "#Μοντέλο 4\n",
        "history_m4 = model_4.fit(x_train, y_train, epochs=increased_epochs, \n",
        "                    validation_data=(x_val, y_val),batch_size = 100,callbacks=[callback])\n",
        "\n",
        "print(len(history_m4.history['loss']),\"epochs are run out of\", increased_epochs)"
      ],
      "execution_count": null,
      "outputs": [
        {
          "output_type": "stream",
          "text": [
            "Epoch 1/20\n",
            "85/85 [==============================] - 7s 86ms/step - loss: 2.7125 - accuracy: 0.1589 - val_loss: 2.4876 - val_accuracy: 0.2513\n",
            "Epoch 2/20\n",
            "85/85 [==============================] - 7s 85ms/step - loss: 2.3622 - accuracy: 0.2786 - val_loss: 2.3193 - val_accuracy: 0.2840\n",
            "Epoch 3/20\n",
            "85/85 [==============================] - 7s 86ms/step - loss: 2.1885 - accuracy: 0.3301 - val_loss: 2.1832 - val_accuracy: 0.3320\n",
            "Epoch 4/20\n",
            "85/85 [==============================] - 7s 84ms/step - loss: 2.0782 - accuracy: 0.3664 - val_loss: 2.0675 - val_accuracy: 0.3687\n",
            "Epoch 5/20\n",
            "85/85 [==============================] - 7s 84ms/step - loss: 2.0032 - accuracy: 0.3938 - val_loss: 2.0571 - val_accuracy: 0.3660\n",
            "Epoch 6/20\n",
            "85/85 [==============================] - 7s 84ms/step - loss: 1.9271 - accuracy: 0.4085 - val_loss: 2.0449 - val_accuracy: 0.3527\n",
            "Epoch 7/20\n",
            "85/85 [==============================] - 7s 84ms/step - loss: 1.8599 - accuracy: 0.4267 - val_loss: 1.9501 - val_accuracy: 0.3960\n",
            "Epoch 8/20\n",
            "85/85 [==============================] - 7s 83ms/step - loss: 1.7818 - accuracy: 0.4571 - val_loss: 1.9377 - val_accuracy: 0.4020\n",
            "Epoch 9/20\n",
            "85/85 [==============================] - 7s 84ms/step - loss: 1.7277 - accuracy: 0.4664 - val_loss: 1.8426 - val_accuracy: 0.4313\n",
            "Epoch 10/20\n",
            "85/85 [==============================] - 7s 84ms/step - loss: 1.6625 - accuracy: 0.4913 - val_loss: 1.8168 - val_accuracy: 0.4413\n",
            "Epoch 11/20\n",
            "85/85 [==============================] - 7s 84ms/step - loss: 1.6165 - accuracy: 0.5031 - val_loss: 1.7948 - val_accuracy: 0.4480\n",
            "Epoch 12/20\n",
            "85/85 [==============================] - 7s 86ms/step - loss: 1.5807 - accuracy: 0.5102 - val_loss: 1.7393 - val_accuracy: 0.4687\n",
            "Epoch 13/20\n",
            "85/85 [==============================] - 7s 87ms/step - loss: 1.5089 - accuracy: 0.5378 - val_loss: 1.7690 - val_accuracy: 0.4613\n",
            "Epoch 14/20\n",
            "85/85 [==============================] - 7s 86ms/step - loss: 1.4566 - accuracy: 0.5544 - val_loss: 1.7572 - val_accuracy: 0.4627\n",
            "Epoch 15/20\n",
            "85/85 [==============================] - 8s 89ms/step - loss: 1.4018 - accuracy: 0.5698 - val_loss: 1.7653 - val_accuracy: 0.4633\n",
            "Epoch 16/20\n",
            "85/85 [==============================] - 7s 85ms/step - loss: 1.3586 - accuracy: 0.5764 - val_loss: 1.7648 - val_accuracy: 0.4767\n",
            "Epoch 17/20\n",
            "85/85 [==============================] - 7s 86ms/step - loss: 1.3259 - accuracy: 0.5891 - val_loss: 1.7361 - val_accuracy: 0.4773\n",
            "Epoch 18/20\n",
            "85/85 [==============================] - 7s 84ms/step - loss: 1.2651 - accuracy: 0.6104 - val_loss: 1.8095 - val_accuracy: 0.4720\n",
            "Epoch 19/20\n",
            "85/85 [==============================] - 7s 84ms/step - loss: 1.2169 - accuracy: 0.6178 - val_loss: 1.7629 - val_accuracy: 0.4787\n",
            "Epoch 20/20\n",
            "85/85 [==============================] - 7s 84ms/step - loss: 1.1758 - accuracy: 0.6354 - val_loss: 1.7845 - val_accuracy: 0.4920\n",
            "20 epochs are run out of 20\n"
          ],
          "name": "stdout"
        }
      ]
    },
    {
      "cell_type": "markdown",
      "metadata": {
        "id": "cU6PQR8Yevov",
        "colab_type": "text"
      },
      "source": [
        "**Μοντέλο 5 (Kαλύτερος Συνδυασμός)**"
      ]
    },
    {
      "cell_type": "code",
      "metadata": {
        "colab_type": "code",
        "id": "nQC1zZYdlJSj",
        "colab": {
          "base_uri": "https://localhost:8080/",
          "height": 434
        },
        "outputId": "42995a1f-c669-4aa1-e987-83b77f112ba4"
      },
      "source": [
        "model_5 = models.Sequential()\n",
        "model_5.add(layers.Conv2D(32, (3, 3), activation='relu', input_shape=(32, 32, 3))) \n",
        "model_5.add(layers.MaxPooling2D((2, 2)))\n",
        "model_5.add(layers.Conv2D(64, (3, 3), activation='relu'))\n",
        "model_5.add(layers.MaxPooling2D((4, 4)))\n",
        "model_5.add(layers.Flatten())\n",
        "\n",
        "model_5.add(layers.Dense(400, activation='relu'))\n",
        "model_5.add(layers.Dense(200, activation='relu'))\n",
        "model_5.add(layers.Dense(20, activation='softmax'))\n",
        "\n",
        "#Compile\n",
        "\n",
        "model_5.compile(optimizer='sgd',\n",
        "              loss=tf.keras.losses.SparseCategoricalCrossentropy(from_logits=False),\n",
        "              metrics=['accuracy'])\n"
      ],
      "execution_count": null,
      "outputs": [
        {
          "output_type": "stream",
          "text": [
            "Model: \"sequential_5\"\n",
            "_________________________________________________________________\n",
            "Layer (type)                 Output Shape              Param #   \n",
            "=================================================================\n",
            "conv2d_5 (Conv2D)            (None, 30, 30, 32)        896       \n",
            "_________________________________________________________________\n",
            "max_pooling2d_4 (MaxPooling2 (None, 15, 15, 32)        0         \n",
            "_________________________________________________________________\n",
            "conv2d_6 (Conv2D)            (None, 13, 13, 64)        18496     \n",
            "_________________________________________________________________\n",
            "max_pooling2d_5 (MaxPooling2 (None, 3, 3, 64)          0         \n",
            "_________________________________________________________________\n",
            "flatten_5 (Flatten)          (None, 576)               0         \n",
            "_________________________________________________________________\n",
            "dense_13 (Dense)             (None, 400)               230800    \n",
            "_________________________________________________________________\n",
            "dense_14 (Dense)             (None, 200)               80200     \n",
            "_________________________________________________________________\n",
            "dense_15 (Dense)             (None, 20)                4020      \n",
            "=================================================================\n",
            "Total params: 334,412\n",
            "Trainable params: 334,412\n",
            "Non-trainable params: 0\n",
            "_________________________________________________________________\n"
          ],
          "name": "stdout"
        }
      ]
    },
    {
      "cell_type": "code",
      "metadata": {
        "id": "p4wEsxfWepHy",
        "colab_type": "code",
        "colab": {
          "base_uri": "https://localhost:8080/",
          "height": 729
        },
        "outputId": "9151debf-c8f7-4136-997a-419834177b05"
      },
      "source": [
        "#Μοντέλο 5\n",
        "history_m5 = model_5.fit(x_train, y_train, epochs=increased_epochs, \n",
        "                    validation_data=(x_val, y_val),batch_size = 100,callbacks=[callback])\n",
        "\n",
        "print(len(history_1_1.history['loss']),\"epochs are run out of\", increased_epochs)"
      ],
      "execution_count": null,
      "outputs": [
        {
          "output_type": "stream",
          "text": [
            "Epoch 1/20\n",
            "85/85 [==============================] - 10s 121ms/step - loss: 0.1302 - accuracy: 0.9681 - val_loss: 2.5262 - val_accuracy: 0.5607\n",
            "Epoch 2/20\n",
            "85/85 [==============================] - 10s 113ms/step - loss: 0.1193 - accuracy: 0.9718 - val_loss: 2.5478 - val_accuracy: 0.5613\n",
            "Epoch 3/20\n",
            "85/85 [==============================] - 10s 115ms/step - loss: 0.1165 - accuracy: 0.9722 - val_loss: 2.5550 - val_accuracy: 0.5647\n",
            "Epoch 4/20\n",
            "85/85 [==============================] - 10s 112ms/step - loss: 0.1129 - accuracy: 0.9742 - val_loss: 2.5708 - val_accuracy: 0.5640\n",
            "Epoch 5/20\n",
            "85/85 [==============================] - 10s 113ms/step - loss: 0.1106 - accuracy: 0.9758 - val_loss: 2.5972 - val_accuracy: 0.5620\n",
            "Epoch 6/20\n",
            "85/85 [==============================] - 10s 112ms/step - loss: 0.1081 - accuracy: 0.9774 - val_loss: 2.6078 - val_accuracy: 0.5600\n",
            "Epoch 7/20\n",
            "85/85 [==============================] - 9s 111ms/step - loss: 0.1063 - accuracy: 0.9772 - val_loss: 2.6280 - val_accuracy: 0.5587\n",
            "Epoch 8/20\n",
            "85/85 [==============================] - 9s 112ms/step - loss: 0.1045 - accuracy: 0.9782 - val_loss: 2.6243 - val_accuracy: 0.5560\n",
            "Epoch 9/20\n",
            "85/85 [==============================] - 9s 110ms/step - loss: 0.1025 - accuracy: 0.9786 - val_loss: 2.6485 - val_accuracy: 0.5573\n",
            "Epoch 10/20\n",
            "85/85 [==============================] - 13s 154ms/step - loss: 0.1009 - accuracy: 0.9792 - val_loss: 2.6673 - val_accuracy: 0.5547\n",
            "Epoch 11/20\n",
            "85/85 [==============================] - 10s 117ms/step - loss: 0.0994 - accuracy: 0.9786 - val_loss: 2.6835 - val_accuracy: 0.5547\n",
            "Epoch 12/20\n",
            "85/85 [==============================] - 10s 119ms/step - loss: 0.0977 - accuracy: 0.9801 - val_loss: 2.6706 - val_accuracy: 0.5607\n",
            "Epoch 13/20\n",
            "85/85 [==============================] - 11s 126ms/step - loss: 0.0960 - accuracy: 0.9815 - val_loss: 2.6985 - val_accuracy: 0.5587\n",
            "Epoch 14/20\n",
            "85/85 [==============================] - 11s 126ms/step - loss: 0.0941 - accuracy: 0.9812 - val_loss: 2.7084 - val_accuracy: 0.5593\n",
            "Epoch 15/20\n",
            "85/85 [==============================] - 10s 114ms/step - loss: 0.0931 - accuracy: 0.9816 - val_loss: 2.7070 - val_accuracy: 0.5607\n",
            "Epoch 16/20\n",
            "85/85 [==============================] - 10s 112ms/step - loss: 0.0913 - accuracy: 0.9813 - val_loss: 2.7188 - val_accuracy: 0.5573\n",
            "Epoch 17/20\n",
            "85/85 [==============================] - 9s 110ms/step - loss: 0.0900 - accuracy: 0.9824 - val_loss: 2.7290 - val_accuracy: 0.5613\n",
            "Epoch 18/20\n",
            "85/85 [==============================] - 9s 109ms/step - loss: 0.0884 - accuracy: 0.9829 - val_loss: 2.7460 - val_accuracy: 0.5587\n",
            "Epoch 19/20\n",
            "85/85 [==============================] - 9s 111ms/step - loss: 0.0870 - accuracy: 0.9834 - val_loss: 2.7632 - val_accuracy: 0.5560\n",
            "Epoch 20/20\n",
            "85/85 [==============================] - 10s 116ms/step - loss: 0.0862 - accuracy: 0.9832 - val_loss: 2.7636 - val_accuracy: 0.5580\n",
            "10 epochs are run out of 20\n"
          ],
          "name": "stdout"
        }
      ]
    },
    {
      "cell_type": "markdown",
      "metadata": {
        "id": "XoRqUId3lhCt",
        "colab_type": "text"
      },
      "source": [
        "**ΠΑΡΑΤΗΡΗΣΕΙΣ:** Παρατηρήσαμε ότι όταν αυξάναμε κατά πολύ τον αριθμό τω εποχών (>100) , η διαδικασία της εκπαίδευσης τερμάτιζε (κάπου στις 60 εποχές). Κάτι τέτοιο ήταν αναμενόμενο αφού το loss δεν μπορούσε να μειωθεί άλλο."
      ]
    },
    {
      "cell_type": "markdown",
      "metadata": {
        "id": "IyOybiG3AW3o",
        "colab_type": "text"
      },
      "source": [
        "#### Dropout"
      ]
    },
    {
      "cell_type": "markdown",
      "metadata": {
        "id": "v0-1n5ywgCzw",
        "colab_type": "text"
      },
      "source": [
        "**Προσθήκη Επιπέδου Dropout σε όλα τα Μοντέλα.**"
      ]
    },
    {
      "cell_type": "code",
      "metadata": {
        "colab_type": "code",
        "id": "LImNP5mpnKTW",
        "colab": {}
      },
      "source": [
        "#Model_1: FC(200), SOFTMAX\n",
        "model_1 = models.Sequential()\n",
        "model_1.add(layers.Flatten(input_shape=(32,32,3)))\n",
        "model_1.add(layers.Dense(200, activation='relu'))\n",
        "model_1.add(layers.Dropout(0.2))                          # new !\n",
        "model_1.add(layers.Dense(20, activation='softmax'))\n",
        "\n",
        "\n",
        "#Model_2: FC(512), RELU, FC(200), SOFTMAX\n",
        "model_2 = models.Sequential()\n",
        "model_2.add(layers.Flatten(input_shape=(32,32,3)))\n",
        "model_2.add(layers.Dense(512, activation='relu'))\n",
        "model_2.add(layers.Dense(200, activation='relu'))\n",
        "model_2.add(layers.Dropout(0.2))                          # new !\n",
        "model_2.add(layers.Dense(20, activation='softmax'))\n",
        "\n",
        "#Model_3: CONV(32, 3), RELU, POOL(2), CONV(32,3), RELU, POOL(2), FC(512, RELU, FC(200),SOFTMAX\n",
        "model_3 = models.Sequential()\n",
        "model_3.add(layers.Conv2D(32, (3, 3), activation='relu', input_shape=(32, 32, 3)))\n",
        "model_3.add(layers.MaxPooling2D((2, 2)))\n",
        "model_3.add(layers.Dropout(0.2))                          # new !\n",
        "model_3.add(layers.Conv2D(32, (3, 3), activation='relu'))\n",
        "model_3.add(layers.MaxPooling2D((2, 2)))\n",
        "model_3.add(layers.Dropout(0.2))                          # new !\n",
        "\n",
        "model_3.add(layers.Flatten())\n",
        "\n",
        "model_3.add(layers.Dense(512, activation='relu'))\n",
        "model_3.add(layers.Dense(200, activation='relu'))\n",
        "model_3.add(layers.Dense(20, activation='softmax'))\n",
        "\n",
        "#Model_4: CONV(16, 5), RELU, POOL(2), CONV(16,3), RELU, POOL(2), CONV(32, 3), RELU, FC(200), SOFTMAX\n",
        "model_4 = models.Sequential()\n",
        "model_4.add(layers.Conv2D(32, (3, 3), activation='relu', input_shape=(32, 32, 3)))\n",
        "model_4.add(layers.MaxPooling2D((2, 2)))\n",
        "model_4.add(layers.Dropout(0.2))                          # new !\n",
        "model_4.add(layers.Conv2D(16, (3, 3), activation='relu'))\n",
        "model_4.add(layers.MaxPooling2D((2, 2)))\n",
        "model_4.add(layers.Dropout(0.2))                          # new !\n",
        "\n",
        "model_4.add(layers.Conv2D(32, (3, 3), activation='relu'))\n",
        "model_4.add(layers.Flatten())\n",
        "model_4.add(layers.Dense(200, activation='relu'))\n",
        "model_4.add(layers.Dense(20, activation='softmax'))\n",
        "\n",
        "#Μodel_5 (my CNN)\n",
        "model_5 = models.Sequential()\n",
        "model_5.add(layers.Conv2D(32, (3, 3), activation='relu', input_shape=(32, 32, 3))) \n",
        "model_5.add(layers.MaxPooling2D((2, 2)))\n",
        "model_5.add(layers.Dropout(0.2))                          # new !\n",
        "model_5.add(layers.Conv2D(64, (3, 3), activation='relu'))\n",
        "model_5.add(layers.MaxPooling2D((4, 4)))\n",
        "model_5.add(layers.Dropout(0.2))                          # new !\n",
        "model_5.add(layers.Flatten())\n",
        "\n",
        "model_5.add(layers.Dense(400, activation='relu'))\n",
        "model_5.add(layers.Dense(200, activation='relu'))\n",
        "model_5.add(layers.Dense(20, activation='softmax'))\n",
        "\n"
      ],
      "execution_count": null,
      "outputs": []
    },
    {
      "cell_type": "markdown",
      "metadata": {
        "id": "eBDNxWCwgm6M",
        "colab_type": "text"
      },
      "source": [
        "Παρουσίαση των Μοντέλων"
      ]
    },
    {
      "cell_type": "code",
      "metadata": {
        "id": "Nie_V-wth7wO",
        "colab_type": "code",
        "colab": {
          "base_uri": "https://localhost:8080/",
          "height": 295
        },
        "outputId": "c4087df1-531f-4d7f-a6aa-1f0eb345f661"
      },
      "source": [
        "model_1.summary()"
      ],
      "execution_count": null,
      "outputs": [
        {
          "output_type": "stream",
          "text": [
            "Model: \"sequential_16\"\n",
            "_________________________________________________________________\n",
            "Layer (type)                 Output Shape              Param #   \n",
            "=================================================================\n",
            "flatten_16 (Flatten)         (None, 3072)              0         \n",
            "_________________________________________________________________\n",
            "dense_41 (Dense)             (None, 200)               614600    \n",
            "_________________________________________________________________\n",
            "dropout_5 (Dropout)          (None, 200)               0         \n",
            "_________________________________________________________________\n",
            "dense_42 (Dense)             (None, 20)                4020      \n",
            "=================================================================\n",
            "Total params: 618,620\n",
            "Trainable params: 618,620\n",
            "Non-trainable params: 0\n",
            "_________________________________________________________________\n"
          ],
          "name": "stdout"
        }
      ]
    },
    {
      "cell_type": "code",
      "metadata": {
        "id": "g-dawApcgMxc",
        "colab_type": "code",
        "colab": {
          "base_uri": "https://localhost:8080/",
          "height": 330
        },
        "outputId": "2d985c72-4911-4441-d57e-15454febccd7"
      },
      "source": [
        "model_2.summary()"
      ],
      "execution_count": null,
      "outputs": [
        {
          "output_type": "stream",
          "text": [
            "Model: \"sequential_17\"\n",
            "_________________________________________________________________\n",
            "Layer (type)                 Output Shape              Param #   \n",
            "=================================================================\n",
            "flatten_17 (Flatten)         (None, 3072)              0         \n",
            "_________________________________________________________________\n",
            "dense_43 (Dense)             (None, 512)               1573376   \n",
            "_________________________________________________________________\n",
            "dense_44 (Dense)             (None, 200)               102600    \n",
            "_________________________________________________________________\n",
            "dropout_6 (Dropout)          (None, 200)               0         \n",
            "_________________________________________________________________\n",
            "dense_45 (Dense)             (None, 20)                4020      \n",
            "=================================================================\n",
            "Total params: 1,679,996\n",
            "Trainable params: 1,679,996\n",
            "Non-trainable params: 0\n",
            "_________________________________________________________________\n"
          ],
          "name": "stdout"
        }
      ]
    },
    {
      "cell_type": "code",
      "metadata": {
        "id": "BsUHGKesguvs",
        "colab_type": "code",
        "colab": {
          "base_uri": "https://localhost:8080/",
          "height": 503
        },
        "outputId": "a1e5320a-1d94-4dc1-c40e-3b434211f5cd"
      },
      "source": [
        "model_3.summary()"
      ],
      "execution_count": null,
      "outputs": [
        {
          "output_type": "stream",
          "text": [
            "Model: \"sequential_18\"\n",
            "_________________________________________________________________\n",
            "Layer (type)                 Output Shape              Param #   \n",
            "=================================================================\n",
            "conv2d_19 (Conv2D)           (None, 30, 30, 32)        896       \n",
            "_________________________________________________________________\n",
            "max_pooling2d_16 (MaxPooling (None, 15, 15, 32)        0         \n",
            "_________________________________________________________________\n",
            "dropout_7 (Dropout)          (None, 15, 15, 32)        0         \n",
            "_________________________________________________________________\n",
            "conv2d_20 (Conv2D)           (None, 13, 13, 32)        9248      \n",
            "_________________________________________________________________\n",
            "max_pooling2d_17 (MaxPooling (None, 6, 6, 32)          0         \n",
            "_________________________________________________________________\n",
            "dropout_8 (Dropout)          (None, 6, 6, 32)          0         \n",
            "_________________________________________________________________\n",
            "flatten_18 (Flatten)         (None, 1152)              0         \n",
            "_________________________________________________________________\n",
            "dense_46 (Dense)             (None, 512)               590336    \n",
            "_________________________________________________________________\n",
            "dense_47 (Dense)             (None, 200)               102600    \n",
            "_________________________________________________________________\n",
            "dense_48 (Dense)             (None, 20)                4020      \n",
            "=================================================================\n",
            "Total params: 707,100\n",
            "Trainable params: 707,100\n",
            "Non-trainable params: 0\n",
            "_________________________________________________________________\n"
          ],
          "name": "stdout"
        }
      ]
    },
    {
      "cell_type": "code",
      "metadata": {
        "id": "zsEueRBYgu-X",
        "colab_type": "code",
        "colab": {
          "base_uri": "https://localhost:8080/",
          "height": 503
        },
        "outputId": "39399981-b26a-4aee-c688-c89042a17e73"
      },
      "source": [
        "model_4.summary()"
      ],
      "execution_count": null,
      "outputs": [
        {
          "output_type": "stream",
          "text": [
            "Model: \"sequential_19\"\n",
            "_________________________________________________________________\n",
            "Layer (type)                 Output Shape              Param #   \n",
            "=================================================================\n",
            "conv2d_21 (Conv2D)           (None, 30, 30, 32)        896       \n",
            "_________________________________________________________________\n",
            "max_pooling2d_18 (MaxPooling (None, 15, 15, 32)        0         \n",
            "_________________________________________________________________\n",
            "dropout_9 (Dropout)          (None, 15, 15, 32)        0         \n",
            "_________________________________________________________________\n",
            "conv2d_22 (Conv2D)           (None, 13, 13, 16)        4624      \n",
            "_________________________________________________________________\n",
            "max_pooling2d_19 (MaxPooling (None, 6, 6, 16)          0         \n",
            "_________________________________________________________________\n",
            "dropout_10 (Dropout)         (None, 6, 6, 16)          0         \n",
            "_________________________________________________________________\n",
            "conv2d_23 (Conv2D)           (None, 4, 4, 32)          4640      \n",
            "_________________________________________________________________\n",
            "flatten_19 (Flatten)         (None, 512)               0         \n",
            "_________________________________________________________________\n",
            "dense_49 (Dense)             (None, 200)               102600    \n",
            "_________________________________________________________________\n",
            "dense_50 (Dense)             (None, 20)                4020      \n",
            "=================================================================\n",
            "Total params: 116,780\n",
            "Trainable params: 116,780\n",
            "Non-trainable params: 0\n",
            "_________________________________________________________________\n"
          ],
          "name": "stdout"
        }
      ]
    },
    {
      "cell_type": "code",
      "metadata": {
        "id": "TMf3BmVqgvKt",
        "colab_type": "code",
        "colab": {
          "base_uri": "https://localhost:8080/",
          "height": 503
        },
        "outputId": "37298a16-0eae-4f5a-ebf4-5311e6afb2e5"
      },
      "source": [
        "model_5.summary()"
      ],
      "execution_count": null,
      "outputs": [
        {
          "output_type": "stream",
          "text": [
            "Model: \"sequential_20\"\n",
            "_________________________________________________________________\n",
            "Layer (type)                 Output Shape              Param #   \n",
            "=================================================================\n",
            "conv2d_24 (Conv2D)           (None, 30, 30, 32)        896       \n",
            "_________________________________________________________________\n",
            "max_pooling2d_20 (MaxPooling (None, 15, 15, 32)        0         \n",
            "_________________________________________________________________\n",
            "dropout_11 (Dropout)         (None, 15, 15, 32)        0         \n",
            "_________________________________________________________________\n",
            "conv2d_25 (Conv2D)           (None, 13, 13, 64)        18496     \n",
            "_________________________________________________________________\n",
            "max_pooling2d_21 (MaxPooling (None, 3, 3, 64)          0         \n",
            "_________________________________________________________________\n",
            "dropout_12 (Dropout)         (None, 3, 3, 64)          0         \n",
            "_________________________________________________________________\n",
            "flatten_20 (Flatten)         (None, 576)               0         \n",
            "_________________________________________________________________\n",
            "dense_51 (Dense)             (None, 400)               230800    \n",
            "_________________________________________________________________\n",
            "dense_52 (Dense)             (None, 200)               80200     \n",
            "_________________________________________________________________\n",
            "dense_53 (Dense)             (None, 20)                4020      \n",
            "=================================================================\n",
            "Total params: 334,412\n",
            "Trainable params: 334,412\n",
            "Non-trainable params: 0\n",
            "_________________________________________________________________\n"
          ],
          "name": "stdout"
        }
      ]
    },
    {
      "cell_type": "markdown",
      "metadata": {
        "id": "ZZA2qQvThK9n",
        "colab_type": "text"
      },
      "source": [
        "**Μεταγλώττιση με τον Καλύτερο Συνδυασμό**"
      ]
    },
    {
      "cell_type": "code",
      "metadata": {
        "id": "TI8-yhN2iAzX",
        "colab_type": "code",
        "colab": {
          "base_uri": "https://localhost:8080/",
          "height": 364
        },
        "outputId": "e10c1316-0d2d-4240-8852-42995b2ff7cc"
      },
      "source": [
        "model_1.compile(optimizer='adam',\n",
        "              loss=tf.keras.losses.SparseCategoricalCrossentropy(from_logits=False),\n",
        "              metrics=['accuracy'])\n",
        "\n",
        "history_1_1_dp = model_1.fit(x_train, y_train, epochs=10, \n",
        "                    validation_data=(x_val, y_val),batch_size = 100)"
      ],
      "execution_count": null,
      "outputs": [
        {
          "output_type": "stream",
          "text": [
            "Epoch 1/10\n",
            "85/85 [==============================] - 1s 12ms/step - loss: 2.8971 - accuracy: 0.1178 - val_loss: 2.6840 - val_accuracy: 0.1600\n",
            "Epoch 2/10\n",
            "85/85 [==============================] - 1s 12ms/step - loss: 2.6580 - accuracy: 0.1688 - val_loss: 2.5767 - val_accuracy: 0.1887\n",
            "Epoch 3/10\n",
            "85/85 [==============================] - 1s 12ms/step - loss: 2.5843 - accuracy: 0.1940 - val_loss: 2.5064 - val_accuracy: 0.2340\n",
            "Epoch 4/10\n",
            "85/85 [==============================] - 1s 13ms/step - loss: 2.5400 - accuracy: 0.2042 - val_loss: 2.4770 - val_accuracy: 0.2480\n",
            "Epoch 5/10\n",
            "85/85 [==============================] - 1s 11ms/step - loss: 2.4897 - accuracy: 0.2256 - val_loss: 2.4188 - val_accuracy: 0.2580\n",
            "Epoch 6/10\n",
            "85/85 [==============================] - 1s 11ms/step - loss: 2.4641 - accuracy: 0.2345 - val_loss: 2.4181 - val_accuracy: 0.2660\n",
            "Epoch 7/10\n",
            "85/85 [==============================] - 1s 11ms/step - loss: 2.4495 - accuracy: 0.2351 - val_loss: 2.4304 - val_accuracy: 0.2667\n",
            "Epoch 8/10\n",
            "85/85 [==============================] - 1s 11ms/step - loss: 2.4270 - accuracy: 0.2394 - val_loss: 2.3726 - val_accuracy: 0.2853\n",
            "Epoch 9/10\n",
            "85/85 [==============================] - 1s 12ms/step - loss: 2.3947 - accuracy: 0.2574 - val_loss: 2.3800 - val_accuracy: 0.2787\n",
            "Epoch 10/10\n",
            "85/85 [==============================] - 1s 11ms/step - loss: 2.3779 - accuracy: 0.2695 - val_loss: 2.3449 - val_accuracy: 0.2700\n"
          ],
          "name": "stdout"
        }
      ]
    },
    {
      "cell_type": "code",
      "metadata": {
        "id": "wI8p1mMNhPhl",
        "colab_type": "code",
        "colab": {
          "base_uri": "https://localhost:8080/",
          "height": 364
        },
        "outputId": "ce502ecd-e2c1-4e15-e0e6-af5728a8883e"
      },
      "source": [
        "model_2.compile(optimizer='adamax',\n",
        "              loss=tf.keras.losses.SparseCategoricalCrossentropy(from_logits=False),\n",
        "              metrics=['accuracy'])\n",
        "\n",
        "history_2_1_dp = model_2.fit(x_train, y_train, epochs=10, \n",
        "                    validation_data=(x_val, y_val),batch_size = 10)"
      ],
      "execution_count": null,
      "outputs": [
        {
          "output_type": "stream",
          "text": [
            "Epoch 1/10\n",
            "850/850 [==============================] - 8s 10ms/step - loss: 2.7566 - accuracy: 0.1484 - val_loss: 2.5465 - val_accuracy: 0.2107\n",
            "Epoch 2/10\n",
            "850/850 [==============================] - 9s 11ms/step - loss: 2.5447 - accuracy: 0.2074 - val_loss: 2.4827 - val_accuracy: 0.2553\n",
            "Epoch 3/10\n",
            "850/850 [==============================] - 9s 10ms/step - loss: 2.4293 - accuracy: 0.2529 - val_loss: 2.3903 - val_accuracy: 0.2633\n",
            "Epoch 4/10\n",
            "850/850 [==============================] - 8s 10ms/step - loss: 2.3581 - accuracy: 0.2775 - val_loss: 2.3457 - val_accuracy: 0.2747\n",
            "Epoch 5/10\n",
            "850/850 [==============================] - 9s 10ms/step - loss: 2.2888 - accuracy: 0.2956 - val_loss: 2.2851 - val_accuracy: 0.3020\n",
            "Epoch 6/10\n",
            "850/850 [==============================] - 8s 10ms/step - loss: 2.2362 - accuracy: 0.3156 - val_loss: 2.2553 - val_accuracy: 0.3167\n",
            "Epoch 7/10\n",
            "850/850 [==============================] - 9s 10ms/step - loss: 2.1968 - accuracy: 0.3259 - val_loss: 2.2736 - val_accuracy: 0.3047\n",
            "Epoch 8/10\n",
            "850/850 [==============================] - 8s 10ms/step - loss: 2.1527 - accuracy: 0.3365 - val_loss: 2.2027 - val_accuracy: 0.3347\n",
            "Epoch 9/10\n",
            "850/850 [==============================] - 8s 10ms/step - loss: 2.1249 - accuracy: 0.3553 - val_loss: 2.1798 - val_accuracy: 0.3327\n",
            "Epoch 10/10\n",
            "850/850 [==============================] - 8s 10ms/step - loss: 2.0838 - accuracy: 0.3599 - val_loss: 2.1693 - val_accuracy: 0.3327\n"
          ],
          "name": "stdout"
        }
      ]
    },
    {
      "cell_type": "code",
      "metadata": {
        "id": "R8RAJ5nghPzf",
        "colab_type": "code",
        "colab": {
          "base_uri": "https://localhost:8080/",
          "height": 364
        },
        "outputId": "ef55205d-7125-4cbd-b7da-b3fc1bc2506d"
      },
      "source": [
        "model_3.compile(optimizer='adam',\n",
        "              loss=tf.keras.losses.SparseCategoricalCrossentropy(from_logits=False),\n",
        "              metrics=['accuracy'])\n",
        "\n",
        "history_3_1_dp = model_3.fit(x_train, y_train, epochs=10, \n",
        "                    validation_data=(x_val, y_val),batch_size = 10)"
      ],
      "execution_count": null,
      "outputs": [
        {
          "output_type": "stream",
          "text": [
            "Epoch 1/10\n",
            "850/850 [==============================] - 16s 19ms/step - loss: 2.6124 - accuracy: 0.1882 - val_loss: 2.4227 - val_accuracy: 0.2740\n",
            "Epoch 2/10\n",
            "850/850 [==============================] - 17s 20ms/step - loss: 2.2183 - accuracy: 0.3145 - val_loss: 2.0823 - val_accuracy: 0.3560\n",
            "Epoch 3/10\n",
            "850/850 [==============================] - 16s 19ms/step - loss: 1.9840 - accuracy: 0.3878 - val_loss: 1.9769 - val_accuracy: 0.3893\n",
            "Epoch 4/10\n",
            "850/850 [==============================] - 16s 19ms/step - loss: 1.7931 - accuracy: 0.4522 - val_loss: 1.8508 - val_accuracy: 0.4433\n",
            "Epoch 5/10\n",
            "850/850 [==============================] - 16s 19ms/step - loss: 1.6299 - accuracy: 0.4949 - val_loss: 1.8115 - val_accuracy: 0.4460\n",
            "Epoch 6/10\n",
            "850/850 [==============================] - 16s 19ms/step - loss: 1.4548 - accuracy: 0.5439 - val_loss: 1.7459 - val_accuracy: 0.4713\n",
            "Epoch 7/10\n",
            "850/850 [==============================] - 17s 19ms/step - loss: 1.3172 - accuracy: 0.5841 - val_loss: 1.7810 - val_accuracy: 0.4760\n",
            "Epoch 8/10\n",
            "850/850 [==============================] - 17s 19ms/step - loss: 1.1770 - accuracy: 0.6316 - val_loss: 1.8681 - val_accuracy: 0.4753\n",
            "Epoch 9/10\n",
            "850/850 [==============================] - 18s 21ms/step - loss: 1.0266 - accuracy: 0.6754 - val_loss: 1.7884 - val_accuracy: 0.5060\n",
            "Epoch 10/10\n",
            "850/850 [==============================] - 18s 21ms/step - loss: 0.8794 - accuracy: 0.7126 - val_loss: 1.9292 - val_accuracy: 0.4847\n"
          ],
          "name": "stdout"
        }
      ]
    },
    {
      "cell_type": "code",
      "metadata": {
        "id": "pEeujl3rhQVD",
        "colab_type": "code",
        "colab": {
          "base_uri": "https://localhost:8080/",
          "height": 364
        },
        "outputId": "fbfbfc9c-7b73-4ec9-cd96-8f9bf4db1e02"
      },
      "source": [
        "model_4.compile(optimizer='adam',\n",
        "              loss=tf.keras.losses.SparseCategoricalCrossentropy(from_logits=False),\n",
        "              metrics=['accuracy'])\n",
        "\n",
        "history_4_2_dp = model_4.fit(x_train, y_train, epochs=10, \n",
        "                    validation_data=(x_val, y_val),batch_size = 100)"
      ],
      "execution_count": null,
      "outputs": [
        {
          "output_type": "stream",
          "text": [
            "Epoch 1/10\n",
            "85/85 [==============================] - 8s 97ms/step - loss: 2.8318 - accuracy: 0.1072 - val_loss: 2.6501 - val_accuracy: 0.1627\n",
            "Epoch 2/10\n",
            "85/85 [==============================] - 8s 99ms/step - loss: 2.5177 - accuracy: 0.2214 - val_loss: 2.4651 - val_accuracy: 0.2520\n",
            "Epoch 3/10\n",
            "85/85 [==============================] - 8s 98ms/step - loss: 2.3507 - accuracy: 0.2800 - val_loss: 2.2944 - val_accuracy: 0.3060\n",
            "Epoch 4/10\n",
            "85/85 [==============================] - 8s 97ms/step - loss: 2.2221 - accuracy: 0.3296 - val_loss: 2.2152 - val_accuracy: 0.3120\n",
            "Epoch 5/10\n",
            "85/85 [==============================] - 8s 98ms/step - loss: 2.1384 - accuracy: 0.3518 - val_loss: 2.1342 - val_accuracy: 0.3540\n",
            "Epoch 6/10\n",
            "85/85 [==============================] - 8s 97ms/step - loss: 2.0703 - accuracy: 0.3658 - val_loss: 2.1043 - val_accuracy: 0.3620\n",
            "Epoch 7/10\n",
            "85/85 [==============================] - 8s 97ms/step - loss: 2.0092 - accuracy: 0.3869 - val_loss: 2.0096 - val_accuracy: 0.3753\n",
            "Epoch 8/10\n",
            "85/85 [==============================] - 8s 97ms/step - loss: 1.9384 - accuracy: 0.4052 - val_loss: 1.9881 - val_accuracy: 0.3773\n",
            "Epoch 9/10\n",
            "85/85 [==============================] - 8s 90ms/step - loss: 1.8835 - accuracy: 0.4235 - val_loss: 1.9685 - val_accuracy: 0.4053\n",
            "Epoch 10/10\n",
            "85/85 [==============================] - 8s 96ms/step - loss: 1.8361 - accuracy: 0.4328 - val_loss: 1.8841 - val_accuracy: 0.4120\n"
          ],
          "name": "stdout"
        }
      ]
    },
    {
      "cell_type": "code",
      "metadata": {
        "id": "iJjuzPTlhRLK",
        "colab_type": "code",
        "colab": {
          "base_uri": "https://localhost:8080/",
          "height": 364
        },
        "outputId": "a9981b77-0a07-46d1-fd62-b17ada542dbd"
      },
      "source": [
        "model_5.compile(optimizer='sgd',\n",
        "              loss=tf.keras.losses.SparseCategoricalCrossentropy(from_logits=False),\n",
        "              metrics=['accuracy'])\n",
        "\n",
        "history_5_2_dp = model_5.fit(x_train, y_train, epochs=10, \n",
        "                    validation_data=(x_val, y_val),batch_size = 10)"
      ],
      "execution_count": null,
      "outputs": [
        {
          "output_type": "stream",
          "text": [
            "Epoch 1/10\n",
            "850/850 [==============================] - 15s 18ms/step - loss: 2.9446 - accuracy: 0.0846 - val_loss: 2.8095 - val_accuracy: 0.1280\n",
            "Epoch 2/10\n",
            "850/850 [==============================] - 15s 17ms/step - loss: 2.6933 - accuracy: 0.1569 - val_loss: 2.6214 - val_accuracy: 0.1980\n",
            "Epoch 3/10\n",
            "850/850 [==============================] - 15s 18ms/step - loss: 2.5665 - accuracy: 0.2036 - val_loss: 2.5628 - val_accuracy: 0.2073\n",
            "Epoch 4/10\n",
            "850/850 [==============================] - 15s 18ms/step - loss: 2.4750 - accuracy: 0.2318 - val_loss: 2.4766 - val_accuracy: 0.2173\n",
            "Epoch 5/10\n",
            "850/850 [==============================] - 15s 18ms/step - loss: 2.3961 - accuracy: 0.2594 - val_loss: 2.3833 - val_accuracy: 0.2607\n",
            "Epoch 6/10\n",
            "850/850 [==============================] - 15s 18ms/step - loss: 2.3293 - accuracy: 0.2818 - val_loss: 2.3138 - val_accuracy: 0.2913\n",
            "Epoch 7/10\n",
            "850/850 [==============================] - 15s 17ms/step - loss: 2.2711 - accuracy: 0.3041 - val_loss: 2.2400 - val_accuracy: 0.3113\n",
            "Epoch 8/10\n",
            "850/850 [==============================] - 15s 18ms/step - loss: 2.2102 - accuracy: 0.3227 - val_loss: 2.1707 - val_accuracy: 0.3187\n",
            "Epoch 9/10\n",
            "850/850 [==============================] - 15s 18ms/step - loss: 2.1379 - accuracy: 0.3435 - val_loss: 2.1750 - val_accuracy: 0.3160\n",
            "Epoch 10/10\n",
            "850/850 [==============================] - 15s 18ms/step - loss: 2.0805 - accuracy: 0.3636 - val_loss: 2.0429 - val_accuracy: 0.3753\n"
          ],
          "name": "stdout"
        }
      ]
    },
    {
      "cell_type": "code",
      "metadata": {
        "id": "-77Qt9r3u5D-",
        "colab_type": "code",
        "colab": {
          "base_uri": "https://localhost:8080/",
          "height": 191
        },
        "outputId": "b85d3fd3-17cf-4854-c6ae-67bde255560c"
      },
      "source": [
        "#Αξιολόγηση με Dropout \n",
        "test_loss1_dp, test_acc1_dp = model_1.evaluate(x_test,  y_test, verbose=2)\n",
        "test_loss2_dp, test_acc2_dp = model_2.evaluate(x_test,  y_test, verbose=2)\n",
        "test_loss3_dp, test_acc3_dp = model_3.evaluate(x_test,  y_test, verbose=2)\n",
        "test_loss4_dp, test_acc4_dp = model_4.evaluate(x_test,  y_test, verbose=2)\n",
        "test_loss5_dp, test_acc5_dp = model_5.evaluate(x_test,  y_test, verbose=2)\n",
        "\n",
        "\n",
        "if (test_acc1 < test_acc1_dp):\n",
        "  print(\"Dropout has better accuracy (about\",test_acc1_dp-test_acc1,\") for Model1 \")\n",
        "else:\n",
        "  print(\"Accuracy didn't improved with Dropout for Model 1  \")\n",
        "\n",
        "\n",
        "if (test_acc2 < test_acc2_dp):\n",
        "  print(\"Dropout has better accuracy (about\",test_acc2_dp-test_acc2,\") for Model 2 \")\n",
        "else:\n",
        "  print(\"Accuracy didn't improved with Dropout for Model 2 \")\n",
        "\n",
        "if (test_acc3 < test_acc3_dp):\n",
        "  print(\"Dropout has better accuracy (about\",test_acc3_dp-test_acc3,\") for Model 3 \")\n",
        "else:\n",
        "  print(\"Accuracy didn't improved with Dropout for Model 3 \")\n",
        "\n",
        "if (test_acc4 < test_acc4_dp):\n",
        "  print(\"Dropout has better accuracy (about\",test_acc4_dp-test_acc4,\") for Model 4 \")\n",
        "else:\n",
        "  print(\"Accuracy didn't improved with Dropout for Model 4 \")\n",
        "\n",
        "if (test_acc5 < test_acc5_dp):\n",
        "  print(\"Dropout has better accuracy (about\",test_acc5_dp-test_acc5,\") for Model 5 \")\n",
        "else:\n",
        "  print(\"Accuracy didn't improved with Dropout for Model 5 \")"
      ],
      "execution_count": null,
      "outputs": [
        {
          "output_type": "stream",
          "text": [
            "63/63 - 0s - loss: 2.3544 - accuracy: 0.2770\n",
            "63/63 - 0s - loss: 2.1913 - accuracy: 0.3290\n",
            "63/63 - 1s - loss: 1.9618 - accuracy: 0.4675\n",
            "63/63 - 1s - loss: 1.8833 - accuracy: 0.4145\n",
            "63/63 - 1s - loss: 2.0423 - accuracy: 0.3885\n",
            "Accuracy didn't improved with Dropout for Model 1  \n",
            "Dropout has better accuracy (about 0.0020000040531158447 ) for Model 2 \n",
            "Dropout has better accuracy (about 0.02799999713897705 ) for Model 3 \n",
            "Accuracy didn't improved with Dropout for Model 4 \n",
            "Accuracy didn't improved with Dropout for Model 5 \n"
          ],
          "name": "stdout"
        }
      ]
    },
    {
      "cell_type": "markdown",
      "metadata": {
        "id": "0QidrcT4vcrQ",
        "colab_type": "text"
      },
      "source": [
        "**ΠΑΡΑΤΗΡΗΣΕΙΣ:** Παρατηρεί κανείς ότι το  accuracy αυξήθηκε στη περίπτωση του Μοντέλου 2 και του Μοντέλου 3. Στα υπόλοιπα δεν παρατηρήθηκε κάποια διαφορά, οπότε δεν ήταν αναγκαίο το Dropout."
      ]
    },
    {
      "cell_type": "markdown",
      "metadata": {
        "id": "SV7RIIflAdAL",
        "colab_type": "text"
      },
      "source": [
        "#### Data Augmentation"
      ]
    },
    {
      "cell_type": "markdown",
      "metadata": {
        "id": "ppw0C77XJhck",
        "colab_type": "text"
      },
      "source": [
        "Στη περίπτωση μιας και αυξήσαμε το πλήθος των εικόνων εισόδου, κρίναμε απαραίτητο να αυξήσουμε και το πλήθων των εποχών. (Για μικρό αριθμό εποχώ το val acc ήταν πολύ κοντά στο μηδέν)."
      ]
    },
    {
      "cell_type": "code",
      "metadata": {
        "id": "i-U6JMgfwFlr",
        "colab_type": "code",
        "colab": {}
      },
      "source": [
        "#Aρχικοποίηση Μοντέλων \n",
        "#Model_1: FC(200), SOFTMAX\n",
        "model_1 = models.Sequential()\n",
        "model_1.add(layers.Flatten(input_shape=(32,32,3)))\n",
        "model_1.add(layers.Dense(200, activation='relu'))\n",
        "model_1.add(layers.Dense(20, activation='softmax'))\n",
        "\n",
        "\n",
        "#Model_2: FC(512), RELU, FC(200), SOFTMAX\n",
        "model_2 = models.Sequential()\n",
        "model_2.add(layers.Flatten(input_shape=(32,32,3)))\n",
        "model_2.add(layers.Dense(512, activation='relu'))\n",
        "model_2.add(layers.Dense(200, activation='relu'))\n",
        "model_2.add(layers.Dense(20, activation='softmax'))\n",
        "\n",
        "#Model_3: CONV(32, 3), RELU, POOL(2), CONV(32,3), RELU, POOL(2), FC(512, RELU, FC(200),SOFTMAX\n",
        "model_3 = models.Sequential()\n",
        "model_3.add(layers.Conv2D(32, (3, 3), activation='relu', input_shape=(32, 32, 3)))\n",
        "model_3.add(layers.MaxPooling2D((2, 2)))\n",
        "model_3.add(layers.Conv2D(32, (3, 3), activation='relu'))\n",
        "model_3.add(layers.MaxPooling2D((2, 2)))\n",
        "\n",
        "model_3.add(layers.Flatten())\n",
        "\n",
        "model_3.add(layers.Dense(512, activation='relu'))\n",
        "model_3.add(layers.Dense(200, activation='relu'))\n",
        "model_3.add(layers.Dense(20, activation='softmax'))\n",
        "\n",
        "#Model_4: CONV(16, 5), RELU, POOL(2), CONV(16,3), RELU, POOL(2), CONV(32, 3), RELU, FC(200), SOFTMAX\n",
        "model_4 = models.Sequential()\n",
        "model_4.add(layers.Conv2D(32, (3, 3), activation='relu', input_shape=(32, 32, 3)))\n",
        "model_4.add(layers.MaxPooling2D((2, 2)))\n",
        "model_4.add(layers.Conv2D(16, (3, 3), activation='relu'))\n",
        "model_4.add(layers.MaxPooling2D((2, 2)))\n",
        "\n",
        "model_4.add(layers.Conv2D(32, (3, 3), activation='relu'))\n",
        "model_4.add(layers.Flatten())\n",
        "model_4.add(layers.Dense(200, activation='relu'))\n",
        "model_4.add(layers.Dense(20, activation='softmax'))\n",
        "\n",
        "#Μodel_5 (my CNN)\n",
        "model_5 = models.Sequential()\n",
        "model_5.add(layers.Conv2D(32, (3, 3), activation='relu', input_shape=(32, 32, 3))) \n",
        "model_5.add(layers.MaxPooling2D((2, 2)))\n",
        "model_5.add(layers.Conv2D(64, (3, 3), activation='relu'))\n",
        "model_5.add(layers.MaxPooling2D((4, 4)))\n",
        "model_5.add(layers.Flatten())\n",
        "\n",
        "model_5.add(layers.Dense(400, activation='relu'))\n",
        "model_5.add(layers.Dense(200, activation='relu'))\n",
        "model_5.add(layers.Dense(20, activation='softmax'))"
      ],
      "execution_count": null,
      "outputs": []
    },
    {
      "cell_type": "markdown",
      "metadata": {
        "id": "iWBshpKpib03",
        "colab_type": "text"
      },
      "source": [
        "**Δημιουργία Νέων Εικόνων με Μ/Σ στις Προηγούμενες**"
      ]
    },
    {
      "cell_type": "code",
      "metadata": {
        "colab_type": "code",
        "id": "EvDNp3xfwivA",
        "colab": {}
      },
      "source": [
        "#Compile\n",
        "model_1.compile(optimizer='adam',\n",
        "              loss=tf.keras.losses.SparseCategoricalCrossentropy(from_logits=False),\n",
        "              metrics=['accuracy'])\n",
        "\n",
        "model_2.compile(optimizer='adamax',\n",
        "              loss=tf.keras.losses.SparseCategoricalCrossentropy(from_logits=False),\n",
        "              metrics=['accuracy'])\n",
        "\n",
        "model_3.compile(optimizer='sgd',\n",
        "              loss=tf.keras.losses.SparseCategoricalCrossentropy(from_logits=False),\n",
        "              metrics=['accuracy'])\n",
        "\n",
        "model_4.compile(optimizer='adam',\n",
        "              loss=tf.keras.losses.SparseCategoricalCrossentropy(from_logits=False),\n",
        "              metrics=['accuracy'])\n",
        "\n",
        "model_5.compile(optimizer='sgd',\n",
        "              loss=tf.keras.losses.SparseCategoricalCrossentropy(from_logits=False),\n",
        "              metrics=['accuracy'])\n",
        "\n"
      ],
      "execution_count": null,
      "outputs": []
    },
    {
      "cell_type": "code",
      "metadata": {
        "id": "UVaqub97jJpA",
        "colab_type": "code",
        "colab": {
          "base_uri": "https://localhost:8080/",
          "height": 34
        },
        "outputId": "1f230a24-059d-4554-99e0-8f3c40ba1860"
      },
      "source": [
        "#Data Augmentation \n",
        "image_gen_train = ImageDataGenerator(\n",
        "                    #rescale=1./255,\n",
        "                    rotation_range=45,\n",
        "                    width_shift_range=.15,\n",
        "                    height_shift_range=.15,\n",
        "                    horizontal_flip=True,\n",
        "                    zoom_range=0.5\n",
        "                    )\n",
        "\n",
        "image_gen_train.fit(x_train)"
      ],
      "execution_count": null,
      "outputs": [
        {
          "output_type": "stream",
          "text": [
            "None\n"
          ],
          "name": "stdout"
        }
      ]
    },
    {
      "cell_type": "markdown",
      "metadata": {
        "id": "PN87rIkbjWBs",
        "colab_type": "text"
      },
      "source": [
        "**Μοντέλο 1 (Kαλύτερος Συνδυασμός)**"
      ]
    },
    {
      "cell_type": "code",
      "metadata": {
        "id": "ikWhxFc7qKYe",
        "colab_type": "code",
        "colab": {
          "base_uri": "https://localhost:8080/",
          "height": 364
        },
        "outputId": "eede1a0d-1174-4493-d1c8-a498a6a418f0"
      },
      "source": [
        "history_1_1_da = model_1.fit_generator(image_gen_train.flow(x_train, y_train, batch_size=10),\n",
        "                        epochs=10,\n",
        "                        validation_data=(x_test, y_test),\n",
        "                        workers=4)"
      ],
      "execution_count": null,
      "outputs": [
        {
          "output_type": "stream",
          "text": [
            "Epoch 1/10\n",
            "850/850 [==============================] - 11s 13ms/step - loss: 2.5458 - accuracy: 0.0338 - val_loss: 2.3969 - val_accuracy: 0.0305\n",
            "Epoch 2/10\n",
            "850/850 [==============================] - 11s 13ms/step - loss: 2.5030 - accuracy: 0.0398 - val_loss: 2.3688 - val_accuracy: 0.0165\n",
            "Epoch 3/10\n",
            "850/850 [==============================] - 11s 13ms/step - loss: 2.4708 - accuracy: 0.0269 - val_loss: 2.3745 - val_accuracy: 0.0190\n",
            "Epoch 4/10\n",
            "850/850 [==============================] - 11s 13ms/step - loss: 2.4605 - accuracy: 0.0254 - val_loss: 2.3970 - val_accuracy: 0.0060\n",
            "Epoch 5/10\n",
            "850/850 [==============================] - 11s 13ms/step - loss: 2.4357 - accuracy: 0.0340 - val_loss: 2.3397 - val_accuracy: 0.0745\n",
            "Epoch 6/10\n",
            "850/850 [==============================] - 11s 13ms/step - loss: 2.4316 - accuracy: 0.0558 - val_loss: 2.3384 - val_accuracy: 0.0270\n",
            "Epoch 7/10\n",
            "850/850 [==============================] - 12s 14ms/step - loss: 2.4393 - accuracy: 0.0358 - val_loss: 2.3274 - val_accuracy: 0.0305\n",
            "Epoch 8/10\n",
            "850/850 [==============================] - 11s 13ms/step - loss: 2.4176 - accuracy: 0.0391 - val_loss: 2.3174 - val_accuracy: 0.0120\n",
            "Epoch 9/10\n",
            "850/850 [==============================] - 11s 12ms/step - loss: 2.4103 - accuracy: 0.0391 - val_loss: 2.3140 - val_accuracy: 0.0205\n",
            "Epoch 10/10\n",
            "850/850 [==============================] - 11s 13ms/step - loss: 2.4265 - accuracy: 0.0458 - val_loss: 2.2847 - val_accuracy: 0.0405\n"
          ],
          "name": "stdout"
        }
      ]
    },
    {
      "cell_type": "markdown",
      "metadata": {
        "id": "NnkC_DEjjWZZ",
        "colab_type": "text"
      },
      "source": [
        "**Μοντέλο 2 (Kαλύτερος Συνδυασμός)**"
      ]
    },
    {
      "cell_type": "code",
      "metadata": {
        "id": "i9dZJGAikCyC",
        "colab_type": "code",
        "colab": {
          "base_uri": "https://localhost:8080/",
          "height": 364
        },
        "outputId": "f20d8c98-c1c3-40d6-cb22-fa9b322f10b1"
      },
      "source": [
        "history_2_1_da = model_2.fit_generator(image_gen_train.flow(x_train, y_train, batch_size=10),\n",
        "                        epochs=10,\n",
        "                        validation_data=(x_test, y_test),\n",
        "                        workers=4)"
      ],
      "execution_count": null,
      "outputs": [
        {
          "output_type": "stream",
          "text": [
            "Epoch 1/10\n",
            "850/850 [==============================] - 14s 16ms/step - loss: 2.7922 - accuracy: 0.0306 - val_loss: 2.5816 - val_accuracy: 0.0160\n",
            "Epoch 2/10\n",
            "850/850 [==============================] - 14s 16ms/step - loss: 2.6100 - accuracy: 0.0228 - val_loss: 2.4799 - val_accuracy: 0.0015\n",
            "Epoch 3/10\n",
            "850/850 [==============================] - 13s 15ms/step - loss: 2.5361 - accuracy: 0.0296 - val_loss: 2.5126 - val_accuracy: 0.0225\n",
            "Epoch 4/10\n",
            "850/850 [==============================] - 13s 15ms/step - loss: 2.5007 - accuracy: 0.0246 - val_loss: 2.3982 - val_accuracy: 0.0300\n",
            "Epoch 5/10\n",
            "850/850 [==============================] - 13s 15ms/step - loss: 2.4578 - accuracy: 0.0260 - val_loss: 2.3610 - val_accuracy: 0.1405\n",
            "Epoch 6/10\n",
            "850/850 [==============================] - 13s 15ms/step - loss: 2.4355 - accuracy: 0.0351 - val_loss: 2.3342 - val_accuracy: 0.0070\n",
            "Epoch 7/10\n",
            "850/850 [==============================] - 13s 15ms/step - loss: 2.4162 - accuracy: 0.0319 - val_loss: 2.2966 - val_accuracy: 0.0375\n",
            "Epoch 8/10\n",
            "850/850 [==============================] - 13s 15ms/step - loss: 2.3900 - accuracy: 0.0301 - val_loss: 2.3087 - val_accuracy: 0.0145\n",
            "Epoch 9/10\n",
            "850/850 [==============================] - 13s 16ms/step - loss: 2.3717 - accuracy: 0.0264 - val_loss: 2.2711 - val_accuracy: 0.0440\n",
            "Epoch 10/10\n",
            "850/850 [==============================] - 13s 15ms/step - loss: 2.3532 - accuracy: 0.0302 - val_loss: 2.2675 - val_accuracy: 0.0490\n"
          ],
          "name": "stdout"
        }
      ]
    },
    {
      "cell_type": "markdown",
      "metadata": {
        "id": "ORnYBuwFjWq5",
        "colab_type": "text"
      },
      "source": [
        "**Μοντέλο 3 (Kαλύτερος Συνδυασμός)**"
      ]
    },
    {
      "cell_type": "code",
      "metadata": {
        "id": "_0rcBA-NkGUd",
        "colab_type": "code",
        "colab": {
          "base_uri": "https://localhost:8080/",
          "height": 364
        },
        "outputId": "c2e7d739-6d8f-4b92-c068-5cf32c8b1ac9"
      },
      "source": [
        "history_3_1_da = model_3.fit_generator(image_gen_train.flow(x_train, y_train, batch_size=10),\n",
        "                        epochs=10,\n",
        "                        validation_data=(x_test, y_test),\n",
        "                        workers=4)"
      ],
      "execution_count": null,
      "outputs": [
        {
          "output_type": "stream",
          "text": [
            "Epoch 1/10\n",
            "850/850 [==============================] - 19s 23ms/step - loss: 2.8945 - accuracy: 0.0038 - val_loss: 3.0126 - val_accuracy: 5.0000e-04\n",
            "Epoch 2/10\n",
            "850/850 [==============================] - 19s 22ms/step - loss: 2.6381 - accuracy: 0.0189 - val_loss: 2.5109 - val_accuracy: 0.0015\n",
            "Epoch 3/10\n",
            "850/850 [==============================] - 19s 23ms/step - loss: 2.5356 - accuracy: 0.0558 - val_loss: 2.4673 - val_accuracy: 0.0495\n",
            "Epoch 4/10\n",
            "850/850 [==============================] - 19s 23ms/step - loss: 2.4660 - accuracy: 0.0665 - val_loss: 2.3595 - val_accuracy: 0.0345\n",
            "Epoch 5/10\n",
            "850/850 [==============================] - 19s 22ms/step - loss: 2.4148 - accuracy: 0.0621 - val_loss: 2.3343 - val_accuracy: 0.0520\n",
            "Epoch 6/10\n",
            "850/850 [==============================] - 20s 24ms/step - loss: 2.3639 - accuracy: 0.0649 - val_loss: 2.2433 - val_accuracy: 0.0195\n",
            "Epoch 7/10\n",
            "850/850 [==============================] - 21s 25ms/step - loss: 2.3200 - accuracy: 0.0555 - val_loss: 2.2138 - val_accuracy: 0.1715\n",
            "Epoch 8/10\n",
            "850/850 [==============================] - 23s 27ms/step - loss: 2.2774 - accuracy: 0.0551 - val_loss: 2.1600 - val_accuracy: 0.0245\n",
            "Epoch 9/10\n",
            "850/850 [==============================] - 21s 24ms/step - loss: 2.2312 - accuracy: 0.0542 - val_loss: 2.1103 - val_accuracy: 0.0320\n",
            "Epoch 10/10\n",
            "850/850 [==============================] - 21s 25ms/step - loss: 2.1875 - accuracy: 0.0608 - val_loss: 2.0612 - val_accuracy: 0.0265\n"
          ],
          "name": "stdout"
        }
      ]
    },
    {
      "cell_type": "markdown",
      "metadata": {
        "id": "4qVeCe71jXCt",
        "colab_type": "text"
      },
      "source": [
        "**Μοντέλο 4 (Kαλύτερος Συνδυασμός)**"
      ]
    },
    {
      "cell_type": "code",
      "metadata": {
        "id": "Hu1aEnMUkKch",
        "colab_type": "code",
        "colab": {
          "base_uri": "https://localhost:8080/",
          "height": 364
        },
        "outputId": "67365cc2-cd30-42c0-bf99-8ef294662b37"
      },
      "source": [
        "history_4_2_da = model_4.fit_generator(image_gen_train.flow(x_train, y_train, batch_size=10),\n",
        "                        epochs=10,\n",
        "                        validation_data=(x_test, y_test),\n",
        "                        workers=4)"
      ],
      "execution_count": null,
      "outputs": [
        {
          "output_type": "stream",
          "text": [
            "Epoch 1/10\n",
            "850/850 [==============================] - 17s 20ms/step - loss: 2.7024 - accuracy: 0.0105 - val_loss: 2.5247 - val_accuracy: 0.0135\n",
            "Epoch 2/10\n",
            "850/850 [==============================] - 17s 20ms/step - loss: 2.4953 - accuracy: 0.0454 - val_loss: 2.3568 - val_accuracy: 0.0360\n",
            "Epoch 3/10\n",
            "850/850 [==============================] - 16s 19ms/step - loss: 2.3980 - accuracy: 0.0389 - val_loss: 2.2737 - val_accuracy: 0.0885\n",
            "Epoch 4/10\n",
            "850/850 [==============================] - 17s 19ms/step - loss: 2.3234 - accuracy: 0.0372 - val_loss: 2.2148 - val_accuracy: 0.0665\n",
            "Epoch 5/10\n",
            "850/850 [==============================] - 17s 19ms/step - loss: 2.2624 - accuracy: 0.0439 - val_loss: 2.3031 - val_accuracy: 0.0745\n",
            "Epoch 6/10\n",
            "850/850 [==============================] - 17s 19ms/step - loss: 2.2349 - accuracy: 0.0418 - val_loss: 2.1403 - val_accuracy: 0.0540\n",
            "Epoch 7/10\n",
            "850/850 [==============================] - 17s 19ms/step - loss: 2.1944 - accuracy: 0.0441 - val_loss: 2.1101 - val_accuracy: 0.0155\n",
            "Epoch 8/10\n",
            "850/850 [==============================] - 17s 19ms/step - loss: 2.1619 - accuracy: 0.0472 - val_loss: 2.1039 - val_accuracy: 0.0425\n",
            "Epoch 9/10\n",
            "850/850 [==============================] - 16s 19ms/step - loss: 2.1515 - accuracy: 0.0418 - val_loss: 2.0689 - val_accuracy: 0.0490\n",
            "Epoch 10/10\n",
            "850/850 [==============================] - 16s 19ms/step - loss: 2.1233 - accuracy: 0.0491 - val_loss: 2.0879 - val_accuracy: 0.0855\n"
          ],
          "name": "stdout"
        }
      ]
    },
    {
      "cell_type": "markdown",
      "metadata": {
        "id": "APlhUHd_jXvO",
        "colab_type": "text"
      },
      "source": [
        "**Μοντέλο 5 (Kαλύτερος Συνδυασμός)**"
      ]
    },
    {
      "cell_type": "code",
      "metadata": {
        "id": "rH4waUoqkNAt",
        "colab_type": "code",
        "colab": {
          "base_uri": "https://localhost:8080/",
          "height": 364
        },
        "outputId": "d257a78f-11f5-48e5-dc56-505702212e7d"
      },
      "source": [
        "history_5_2_da = model_5.fit_generator(image_gen_train.flow(x_train, y_train, batch_size=10),\n",
        "                        epochs=10,\n",
        "                        validation_data=(x_test, y_test),\n",
        "                        workers=4)"
      ],
      "execution_count": null,
      "outputs": [
        {
          "output_type": "stream",
          "text": [
            "Epoch 1/10\n",
            "850/850 [==============================] - 20s 23ms/step - loss: 2.9700 - accuracy: 3.5294e-04 - val_loss: 2.8826 - val_accuracy: 5.0000e-04\n",
            "Epoch 2/10\n",
            "850/850 [==============================] - 19s 23ms/step - loss: 2.7349 - accuracy: 0.0016 - val_loss: 2.5918 - val_accuracy: 0.1180\n",
            "Epoch 3/10\n",
            "850/850 [==============================] - 20s 23ms/step - loss: 2.6030 - accuracy: 0.0214 - val_loss: 2.5079 - val_accuracy: 0.0130\n",
            "Epoch 4/10\n",
            "850/850 [==============================] - 20s 23ms/step - loss: 2.5088 - accuracy: 0.0562 - val_loss: 2.3930 - val_accuracy: 0.0495\n",
            "Epoch 5/10\n",
            "850/850 [==============================] - 20s 24ms/step - loss: 2.4331 - accuracy: 0.0559 - val_loss: 2.3633 - val_accuracy: 0.0955\n",
            "Epoch 6/10\n",
            "850/850 [==============================] - 20s 23ms/step - loss: 2.3796 - accuracy: 0.0534 - val_loss: 2.2712 - val_accuracy: 0.0305\n",
            "Epoch 7/10\n",
            "850/850 [==============================] - 20s 24ms/step - loss: 2.3258 - accuracy: 0.0535 - val_loss: 2.1768 - val_accuracy: 0.0430\n",
            "Epoch 8/10\n",
            "850/850 [==============================] - 20s 24ms/step - loss: 2.2875 - accuracy: 0.0415 - val_loss: 2.1583 - val_accuracy: 0.0225\n",
            "Epoch 9/10\n",
            "850/850 [==============================] - 20s 24ms/step - loss: 2.2422 - accuracy: 0.0375 - val_loss: 2.1072 - val_accuracy: 0.0375\n",
            "Epoch 10/10\n",
            "850/850 [==============================] - 20s 23ms/step - loss: 2.1996 - accuracy: 0.0461 - val_loss: 2.1317 - val_accuracy: 0.0245\n"
          ],
          "name": "stdout"
        }
      ]
    },
    {
      "cell_type": "markdown",
      "metadata": {
        "id": "gnWSJU8jUVEk",
        "colab_type": "text"
      },
      "source": [
        "## Βήμα 2: Αξιολόγηση accurracy μετά τον έλεγχο υπερεκπαίδευσης\n",
        "Αξιολογήστε την ακρίβεια για το validation και το test set σας."
      ]
    },
    {
      "cell_type": "markdown",
      "metadata": {
        "id": "dCSM4hfQkfug",
        "colab_type": "text"
      },
      "source": [
        "Παρατηρήσαμε ότι με τη χρήση της τεχνικής **Early Stopping**,όταν αυξάναμε τον αριθμό των Εποχών, η διαδικασία της Εκπαίδευσης τερμάτιζε. Κάτι τέτοιο ήταν επιθυμητό, αφού το val_acc απέκλινε απο του train_acc και υπήρχε κίνδυνος overfitt. Αναφορικά με **Dropout** παρατηρήσαμε ότι για τα Μοντέλα 2 και 3 πετύχαμε καλύτερο accuracy, απο ότι χωρίς Dropout.Για τα υπόλοιπα μοντέλα δεν έγινε αντιληπτή κάποια αξιοσημείωτη διαφορά. Τέλος αναφορικά με **Data Augmentation**, το δίκτυο μας,το οποίο τροφοδοτήθηκε με πληθώρα εικόνων, \"έμαθε\" απο θορύβους και δεν πέτυχε κάποια επιθυμητή ακρίβεια. Ισως αν το Μοντέλο ήταν πιο σύνθετο, (περισσότερα Layers) να παίρναμε μεγαλύτερο acc.\n"
      ]
    },
    {
      "cell_type": "markdown",
      "metadata": {
        "id": "jTxKRNEHWfGs",
        "colab_type": "text"
      },
      "source": [
        "\n",
        "# Ερώτημα 3\n",
        "\n",
        "Εφαρμόστε transfer learning για το δικό σας μοντέλο (CNN2), που αξιολογήσατε ως καλύτερο προς την ακρίβειά, στην αντιμετώπιση της υπερεκπαίδεσης. (Το καλύτερο μοντέλο που προέκυψε από το βήμα 2 του ερωτήματος 2). Για το transfer learning επιλέξτε, ένα από τα διαθέσιμα μοντέλα για μεταφορά μάθησης. \n",
        "\n"
      ]
    },
    {
      "cell_type": "code",
      "metadata": {
        "id": "4PfOJ1-wU-2_",
        "colab_type": "code",
        "colab": {}
      },
      "source": [
        "import tensorflow as tf"
      ],
      "execution_count": null,
      "outputs": []
    },
    {
      "cell_type": "markdown",
      "metadata": {
        "id": "DUnZnK-0SRNM",
        "colab_type": "text"
      },
      "source": [
        "## Βήμα 1\n",
        "\"Παγώστε\" τη συνελικτική βάση και εκπαιδεύστε την κεφαλή ταξινόμησης (classification head - σημαία trainable = False)."
      ]
    },
    {
      "cell_type": "code",
      "metadata": {
        "id": "RyHKCWZTU4pJ",
        "colab_type": "code",
        "colab": {
          "base_uri": "https://localhost:8080/",
          "height": 52
        },
        "outputId": "7240359c-4447-4503-b92d-4270625ac885"
      },
      "source": [
        "pretrained_model = tf.keras.applications.VGG19(input_shape=(32,32,3), include_top=False)\n",
        "pretrained_model.trainable = False"
      ],
      "execution_count": null,
      "outputs": [
        {
          "output_type": "stream",
          "text": [
            "Downloading data from https://storage.googleapis.com/tensorflow/keras-applications/vgg19/vgg19_weights_tf_dim_ordering_tf_kernels_notop.h5\n",
            "80142336/80134624 [==============================] - 1s 0us/step\n"
          ],
          "name": "stdout"
        }
      ]
    },
    {
      "cell_type": "code",
      "metadata": {
        "id": "H9X3SffOWhi8",
        "colab_type": "code",
        "colab": {}
      },
      "source": [
        "model_5 = models.Sequential()\n",
        "\n",
        "model_5.add(pretrained_model)\n",
        "#model_5.add(layers.Conv2D(32, (3, 3), activation='relu', input_shape=(32, 32, 3))) \n",
        "#model_5.add(layers.MaxPooling2D((2, 2)))\n",
        "#model_5.add(layers.Conv2D(64, (3, 3), activation='relu'))\n",
        "#model_5.add(layers.MaxPooling2D((4, 4)))\n",
        "model_5.add(layers.Flatten())\n",
        "\n",
        "model_5.add(layers.Dense(400, activation='relu'))\n",
        "model_5.add(layers.Dense(200, activation='relu'))\n",
        "model_5.add(layers.Dense(20, activation='softmax'))"
      ],
      "execution_count": null,
      "outputs": []
    },
    {
      "cell_type": "code",
      "metadata": {
        "id": "ddfUVWyyYI9Z",
        "colab_type": "code",
        "colab": {
          "base_uri": "https://localhost:8080/",
          "height": 364
        },
        "outputId": "dda473f1-379a-4262-b0fd-a355f2c478aa"
      },
      "source": [
        "model_5.compile(optimizer='sgd',\n",
        "              loss=tf.keras.losses.SparseCategoricalCrossentropy(from_logits=False),\n",
        "              metrics=['accuracy'])\n",
        "\n",
        "history_5_2 = model_5.fit(x_train, y_train, epochs=10, \n",
        "                    validation_data=(x_val, y_val),batch_size = 10)"
      ],
      "execution_count": null,
      "outputs": [
        {
          "output_type": "stream",
          "text": [
            "Epoch 1/10\n",
            "850/850 [==============================] - 154s 181ms/step - loss: 2.6154 - accuracy: 0.2313 - val_loss: 2.2329 - val_accuracy: 0.3260\n",
            "Epoch 2/10\n",
            "850/850 [==============================] - 156s 184ms/step - loss: 2.0867 - accuracy: 0.3641 - val_loss: 2.0819 - val_accuracy: 0.3573\n",
            "Epoch 3/10\n",
            "850/850 [==============================] - 151s 177ms/step - loss: 1.9356 - accuracy: 0.4029 - val_loss: 1.9473 - val_accuracy: 0.4160\n",
            "Epoch 4/10\n",
            "850/850 [==============================] - 151s 178ms/step - loss: 1.8564 - accuracy: 0.4331 - val_loss: 1.8923 - val_accuracy: 0.4160\n",
            "Epoch 5/10\n",
            "850/850 [==============================] - 152s 178ms/step - loss: 1.7961 - accuracy: 0.4494 - val_loss: 1.8586 - val_accuracy: 0.4347\n",
            "Epoch 6/10\n",
            "850/850 [==============================] - 151s 177ms/step - loss: 1.7513 - accuracy: 0.4555 - val_loss: 1.8378 - val_accuracy: 0.4447\n",
            "Epoch 7/10\n",
            "850/850 [==============================] - 149s 176ms/step - loss: 1.7114 - accuracy: 0.4693 - val_loss: 1.8340 - val_accuracy: 0.4447\n",
            "Epoch 8/10\n",
            "850/850 [==============================] - 147s 173ms/step - loss: 1.6825 - accuracy: 0.4801 - val_loss: 1.7910 - val_accuracy: 0.4447\n",
            "Epoch 9/10\n",
            "850/850 [==============================] - 151s 177ms/step - loss: 1.6553 - accuracy: 0.4894 - val_loss: 1.8268 - val_accuracy: 0.4540\n",
            "Epoch 10/10\n",
            "850/850 [==============================] - 154s 181ms/step - loss: 1.6279 - accuracy: 0.4964 - val_loss: 1.7700 - val_accuracy: 0.4713\n"
          ],
          "name": "stdout"
        }
      ]
    },
    {
      "cell_type": "code",
      "metadata": {
        "id": "cZ4iR779UM-D",
        "colab_type": "code",
        "colab": {
          "base_uri": "https://localhost:8080/",
          "height": 34
        },
        "outputId": "7244fb18-8390-4c84-e097-6252ab3e4a00"
      },
      "source": [
        "#Τest_acc για Ερώτημα_3\n",
        "test_loss5, test_acc5 = model_5.evaluate(x_test,  y_test, verbose=2)"
      ],
      "execution_count": null,
      "outputs": [
        {
          "output_type": "stream",
          "text": [
            "63/63 - 26s - loss: 1.7283 - accuracy: 0.4725\n"
          ],
          "name": "stdout"
        }
      ]
    },
    {
      "cell_type": "markdown",
      "metadata": {
        "id": "KnLv9mfVblmz",
        "colab_type": "text"
      },
      "source": [
        "Είναι φανερό ότι με Trasfer Learning **αυξήθηκε** σημαντικά η ακρίβεια."
      ]
    },
    {
      "cell_type": "markdown",
      "metadata": {
        "id": "4RJRkCtmSan7",
        "colab_type": "text"
      },
      "source": [
        "## Βήμα 2\n",
        "  Εκπαιδέστε μόνο ένα ποσοστό των επιπέδων, το οποίο βρίσκεται προς την έξοδο του δικτύου. Οι σημαίες trainable εδώ θα πρέπει να οριστούν ανά επίπεδο."
      ]
    },
    {
      "cell_type": "code",
      "metadata": {
        "id": "VbM5E2WbVxdu",
        "colab_type": "code",
        "colab": {
          "base_uri": "https://localhost:8080/",
          "height": 434
        },
        "outputId": "dec838e7-13c4-421c-88ae-41eaf54d221d"
      },
      "source": [
        "pretrained_model = tf.keras.applications.VGG19(input_shape=(32,32,3), include_top=False)\n",
        "\n",
        "\n",
        "#Αρχικά θα δούμε πόσα Layers έχει το δίκτυο μας.\n",
        "i = 1\n",
        "for layer in pretrained_model.layers[:]:\n",
        "  print(\"Layer\",i)\n",
        "  i=i+1"
      ],
      "execution_count": null,
      "outputs": [
        {
          "output_type": "stream",
          "text": [
            "Downloading data from https://storage.googleapis.com/tensorflow/keras-applications/vgg19/vgg19_weights_tf_dim_ordering_tf_kernels_notop.h5\n",
            "80142336/80134624 [==============================] - 1s 0us/step\n",
            "Layer 1\n",
            "Layer 2\n",
            "Layer 3\n",
            "Layer 4\n",
            "Layer 5\n",
            "Layer 6\n",
            "Layer 7\n",
            "Layer 8\n",
            "Layer 9\n",
            "Layer 10\n",
            "Layer 11\n",
            "Layer 12\n",
            "Layer 13\n",
            "Layer 14\n",
            "Layer 15\n",
            "Layer 16\n",
            "Layer 17\n",
            "Layer 18\n",
            "Layer 19\n",
            "Layer 20\n",
            "Layer 21\n",
            "Layer 22\n"
          ],
          "name": "stdout"
        }
      ]
    },
    {
      "cell_type": "code",
      "metadata": {
        "id": "Rr1HJDUAdNZm",
        "colab_type": "code",
        "colab": {
          "base_uri": "https://localhost:8080/",
          "height": 399
        },
        "outputId": "98d30d3c-c7ac-4443-9154-92678df96135"
      },
      "source": [
        "#Είναι 22. Επιλέγουμε να \"παγώσουμε\" τα 10 τελευταία \n",
        "i = 1\n",
        "for layer in pretrained_model.layers[:]:\n",
        "  if (i <= 12):\n",
        "    print(\"Layer \",i,\" is not Trainable\")\n",
        "    layer.trainable = False \n",
        "  else:\n",
        "    print(\"Layer \",i,\" is Trainable\")\n",
        "    layer.trainable = True\n",
        "  i = i + 1  "
      ],
      "execution_count": null,
      "outputs": [
        {
          "output_type": "stream",
          "text": [
            "Layer  1  is not Trainable\n",
            "Layer  2  is not Trainable\n",
            "Layer  3  is not Trainable\n",
            "Layer  4  is not Trainable\n",
            "Layer  5  is not Trainable\n",
            "Layer  6  is not Trainable\n",
            "Layer  7  is not Trainable\n",
            "Layer  8  is not Trainable\n",
            "Layer  9  is not Trainable\n",
            "Layer  10  is not Trainable\n",
            "Layer  11  is not Trainable\n",
            "Layer  12  is not Trainable\n",
            "Layer  13  is Trainable\n",
            "Layer  14  is Trainable\n",
            "Layer  15  is Trainable\n",
            "Layer  16  is Trainable\n",
            "Layer  17  is Trainable\n",
            "Layer  18  is Trainable\n",
            "Layer  19  is Trainable\n",
            "Layer  20  is Trainable\n",
            "Layer  21  is Trainable\n",
            "Layer  22  is Trainable\n"
          ],
          "name": "stdout"
        }
      ]
    },
    {
      "cell_type": "code",
      "metadata": {
        "id": "IeRo0Y2VaJAa",
        "colab_type": "code",
        "colab": {}
      },
      "source": [
        "model_5a = models.Sequential()\n",
        "model_5a.add(pretrained_model)\n",
        "#model_5a.add(layers.Conv2D(32, (3, 3), activation='relu', input_shape=(32, 32, 3))) \n",
        "#model_5a.add(layers.MaxPooling2D((2, 2)))\n",
        "#model_5a.add(layers.Conv2D(64, (3, 3), activation='relu'))\n",
        "#model_5a.add(layers.MaxPooling2D((4, 4)))\n",
        "model_5a.add(layers.Flatten())\n",
        "\n",
        "model_5a.add(layers.Dense(400, activation='relu'))\n",
        "model_5a.add(layers.Dense(200, activation='relu'))\n",
        "model_5a.add(layers.Dense(20, activation='softmax'))"
      ],
      "execution_count": null,
      "outputs": []
    },
    {
      "cell_type": "code",
      "metadata": {
        "id": "-Pr57_1HfVHA",
        "colab_type": "code",
        "colab": {
          "base_uri": "https://localhost:8080/",
          "height": 364
        },
        "outputId": "ac6fa466-562f-4c01-de8c-2478858c7cb8"
      },
      "source": [
        "model_5a.compile(optimizer='sgd',\n",
        "              loss=tf.keras.losses.SparseCategoricalCrossentropy(from_logits=False),\n",
        "              metrics=['accuracy'])\n",
        "\n",
        "history_5_2b = model_5a.fit(x_train, y_train, epochs=10, \n",
        "                    validation_data=(x_val, y_val),batch_size = 10)"
      ],
      "execution_count": null,
      "outputs": [
        {
          "output_type": "stream",
          "text": [
            "Epoch 1/10\n",
            "850/850 [==============================] - 857s 1s/step - loss: 2.1428 - accuracy: 0.3499 - val_loss: 1.7098 - val_accuracy: 0.4833\n",
            "Epoch 2/10\n",
            "850/850 [==============================] - 856s 1s/step - loss: 1.5386 - accuracy: 0.5288 - val_loss: 1.5228 - val_accuracy: 0.5553\n",
            "Epoch 3/10\n",
            "850/850 [==============================] - 853s 1s/step - loss: 1.2653 - accuracy: 0.6112 - val_loss: 1.6483 - val_accuracy: 0.4987\n",
            "Epoch 4/10\n",
            "850/850 [==============================] - 876s 1s/step - loss: 1.0560 - accuracy: 0.6681 - val_loss: 1.4148 - val_accuracy: 0.5813\n",
            "Epoch 5/10\n",
            "850/850 [==============================] - 875s 1s/step - loss: 0.8675 - accuracy: 0.7301 - val_loss: 1.2929 - val_accuracy: 0.6247\n",
            "Epoch 6/10\n",
            "850/850 [==============================] - 869s 1s/step - loss: 0.6933 - accuracy: 0.7805 - val_loss: 1.4831 - val_accuracy: 0.5933\n",
            "Epoch 7/10\n",
            "850/850 [==============================] - 862s 1s/step - loss: 0.5681 - accuracy: 0.8215 - val_loss: 1.4266 - val_accuracy: 0.6167\n",
            "Epoch 8/10\n",
            "850/850 [==============================] - 938s 1s/step - loss: 0.4576 - accuracy: 0.8536 - val_loss: 1.3447 - val_accuracy: 0.6547\n",
            "Epoch 9/10\n",
            "850/850 [==============================] - 925s 1s/step - loss: 0.3470 - accuracy: 0.8921 - val_loss: 1.4220 - val_accuracy: 0.6513\n",
            "Epoch 10/10\n",
            "850/850 [==============================] - 884s 1s/step - loss: 0.2871 - accuracy: 0.9084 - val_loss: 1.3815 - val_accuracy: 0.6527\n"
          ],
          "name": "stdout"
        }
      ]
    },
    {
      "cell_type": "markdown",
      "metadata": {
        "id": "b5j5T2JASdtO",
        "colab_type": "text"
      },
      "source": [
        "## Βήμα 3 \n",
        "Αξιολογήστε τα αποτελέσματά σας, βάσει της ακρίβειας του validation set και του test set σας, για τα προηγούμενα βήματα του Ερωτήματος 3 "
      ]
    },
    {
      "cell_type": "markdown",
      "metadata": {
        "id": "v5OdHr4VUCFT",
        "colab_type": "text"
      },
      "source": [
        "Παρατηρούμε ότι το Transfer Learning ήταν αναγκαίο μιας και αυξήθηκε σημαντικά η ακρίβεια τόσο στο val_set(χωρίς να ελλοχεύύει κίνδυνος overfitt) όσο και στο test set. Βέβαια οφείλουμε να παραδεχτούμε ότι η διαδικασία της εκπαίδευσης απαιτούσε αρκετό χρόνο, ιδιαίίτερα στο Βήμα 2(όπου εκπαιδέυσαμε τα τελευταία Layers του VGG) αλλά τα αποτελέσματα ήταν αρκετά ικανοποιητικά.  "
      ]
    },
    {
      "cell_type": "markdown",
      "metadata": {
        "id": "rFwtcQgSFj2j",
        "colab_type": "text"
      },
      "source": [
        "Aποτελέσματα για Test_Acc:"
      ]
    },
    {
      "cell_type": "code",
      "metadata": {
        "id": "72lMCUDMFf7x",
        "colab_type": "code",
        "colab": {
          "base_uri": "https://localhost:8080/",
          "height": 34
        },
        "outputId": "50352743-eb35-4518-9782-a500536692b3"
      },
      "source": [
        "test_loss5, test_acc5 = model_5a.evaluate(x_test,  y_test, verbose=2)"
      ],
      "execution_count": null,
      "outputs": [
        {
          "output_type": "stream",
          "text": [
            "63/63 - 26s - loss: 1.4954 - accuracy: 0.6375\n"
          ],
          "name": "stdout"
        }
      ]
    },
    {
      "cell_type": "markdown",
      "metadata": {
        "id": "ogxZLeKOW6Jn",
        "colab_type": "text"
      },
      "source": [
        "\n",
        "#### Διαθέσιμα μοντέλα για μεταφορά μάθησης στο tf2 για να χρησιμοποιηθούν στην άσκηση\n",
        "\n",
        "1. tf.keras.applications. Ο πιο απλός τρόπος για να κάνουμε μεταφορά μάθησης στο tf2 είναι μέσω του [tf.keras.applications](https://www.tensorflow.org/api_docs/python/tf/keras/applications) που παρέχει προεκπαιδευμένα μοντέλα από το Keras και συγκεκριμένα τα δίκτυα: DenseNet, Inception-ResNet V2, Inception V3, MobileNet v1, MobileNet v2, NASNet-A, ResNet, ResNet v2, VGG16, VGG19 και Xception V1. Η εισαγωγή των μοντέλων γίνεται παρόμοια με αυτή που δείξαμε παραπάνω για το VGG16.\n",
        "\n",
        "2. TensorFlow Hub. Μπορείτε επίσης να χρησιμοποιήσετε μοντέλα τα οποία είναι διαθέσιμα στο αποθετήριο [TensoFlow Hub](https://tfhub.dev/s?fine-tunable=yes&module-type=image-augmentation,image-classification,image-feature-vector,image-generator,image-object-detection,image-others,image-style-transfer,image-rnn-agent&tf-version=tf2) το οποίο περιλαμβάνει πάνω από 100 προεκπαιδευμένα μοντέλα.\n",
        "\n",
        "\n",
        "Σημειώστε ότι πολλά μοντέλα απαιτούν μεγαλύτερες διαστάσεις στην είσοδο από \n",
        "αυτές του CIFAR-100 και κατά συνέπεια τα δεδομένα πρέπει να [μετασχηματιστούν](https://www.tensorflow.org/api_docs/python/tf/image/resize). Προσέξτε ωστόσο τις απαιτήσεις σε μνήμη όταν αυτοί οι μετασχηματισμοί γίνονται απευθείας σε μεταβλητές (δες \"Διαχείριση μνήμης\"). "
      ]
    },
    {
      "cell_type": "markdown",
      "metadata": {
        "id": "s3ddu1ECoCGQ",
        "colab_type": "text"
      },
      "source": [
        "\n",
        "### Εργαλεία υψηλού επιπέδου\n",
        "\n",
        "Δεν είναι υποχρεωτικό στο πλαίσιο της άσκησης, αλλά αν  κάποιος επιθυμεί μπορεί να ασχοληθεί περαιτέρω με εργαλεία βελτιστοποίησης υψηλού επιπέδου (high-level). \n",
        "\n",
        "\n",
        "Για το TensorFlow μπορούμε να αναφέρουμε τα ακόλουθα:\n",
        "\n",
        "- [TensorBoard](https://www.tensorflow.org/tensorboard/get_started) και [What-If Tool](https://www.tensorflow.org/tensorboard/what_if_tool) Επικουρικό εργαλείο οπτικοποίησης για τον πειραματισμό στη Μηχανική Μάθηση\n",
        "- [tf-explain](https://tf-explain.readthedocs.io/en/latest/) Προσφέρει μεθόδους επεξηγισιμότητας για το tf2\n",
        "- [Keras Tuner](https://github.com/keras-team/keras-tuner) Βελτιστοποίηση υπερπαραμέτρων του Keras στο TensorFlow 2.0\n",
        "- [AutoAugment](https://github.com/tensorflow/models/tree/master/research/autoaugment) Εκμάθηση της πολιτικης επαύξησης από τα δεδομένα"
      ]
    }
  ]
}